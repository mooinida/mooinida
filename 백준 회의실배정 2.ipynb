{
 "cells": [
  {
   "cell_type": "code",
   "execution_count": 23,
   "id": "5b18ecc0",
   "metadata": {},
   "outputs": [
    {
     "name": "stdout",
     "output_type": "stream",
     "text": [
      "11\n",
      "1 4\n",
      "3 5\n",
      "0 6\n",
      "5 7\n",
      "3 8\n",
      "5 9\n",
      "6 10\n",
      "8 11\n",
      "8 12\n",
      "2 13\n",
      "12 14\n",
      "8\n"
     ]
    }
   ],
   "source": [
    "n=int(input())\n",
    "my=[]\n",
    "for i in range(n):\n",
    "    start,end=map(int,input().split())\n",
    "    my.append([end,start])\n",
    "my.sort()\n",
    "count=0\n",
    "last=0\n",
    "for end,start in my:\n",
    "    if start>=last:\n",
    "        count+=1\n",
    "        last=end\n",
    "print(count)"
   ]
  },
  {
   "cell_type": "code",
   "execution_count": 28,
   "id": "6a8a050c",
   "metadata": {},
   "outputs": [
    {
     "name": "stdout",
     "output_type": "stream",
     "text": [
      "1 4\n",
      "5 7\n",
      "8 11\n",
      "12 14\n",
      "4\n"
     ]
    }
   ],
   "source": [
    "count=0\n",
    "last=0\n",
    "for end,start in my:\n",
    "    \n",
    "    if start>=last:\n",
    "        \n",
    "        count+=1\n",
    "        last=end\n",
    "print(count)"
   ]
  },
  {
   "cell_type": "code",
   "execution_count": 22,
   "id": "53af1ac0",
   "metadata": {},
   "outputs": [
    {
     "data": {
      "text/plain": [
       "[[4, 1],\n",
       " [5, 3],\n",
       " [6, 0],\n",
       " [7, 5],\n",
       " [8, 3],\n",
       " [9, 5],\n",
       " [10, 6],\n",
       " [11, 8],\n",
       " [12, 8],\n",
       " [13, 2],\n",
       " [14, 12]]"
      ]
     },
     "execution_count": 22,
     "metadata": {},
     "output_type": "execute_result"
    }
   ],
   "source": [
    "my"
   ]
  },
  {
   "cell_type": "code",
   "execution_count": 7,
   "id": "92d01f25",
   "metadata": {},
   "outputs": [
    {
     "data": {
      "text/plain": [
       "[[1, 4],\n",
       " [3, 5],\n",
       " [0, 6],\n",
       " [5, 7],\n",
       " [3, 8],\n",
       " [5, 9],\n",
       " [6, 10],\n",
       " [8, 11],\n",
       " [8, 12],\n",
       " [2, 13],\n",
       " [12, 14]]"
      ]
     },
     "execution_count": 7,
     "metadata": {},
     "output_type": "execute_result"
    }
   ],
   "source": [
    "my"
   ]
  },
  {
   "cell_type": "code",
   "execution_count": 16,
   "id": "15eabc4b",
   "metadata": {},
   "outputs": [],
   "source": [
    "cnt=0\n",
    "last=0\n",
    "for i,j in my:\n",
    "    if i>=last:\n",
    "        cnt+=1\n",
    "        last=j\n"
   ]
  },
  {
   "cell_type": "code",
   "execution_count": 17,
   "id": "2cd31b1e",
   "metadata": {},
   "outputs": [
    {
     "data": {
      "text/plain": [
       "4"
      ]
     },
     "execution_count": 17,
     "metadata": {},
     "output_type": "execute_result"
    }
   ],
   "source": [
    "cnt"
   ]
  },
  {
   "cell_type": "code",
   "execution_count": null,
   "id": "81ddf432",
   "metadata": {},
   "outputs": [],
   "source": []
  }
 ],
 "metadata": {
  "kernelspec": {
   "display_name": "Python 3 (ipykernel)",
   "language": "python",
   "name": "python3"
  },
  "language_info": {
   "codemirror_mode": {
    "name": "ipython",
    "version": 3
   },
   "file_extension": ".py",
   "mimetype": "text/x-python",
   "name": "python",
   "nbconvert_exporter": "python",
   "pygments_lexer": "ipython3",
   "version": "3.10.7"
  }
 },
 "nbformat": 4,
 "nbformat_minor": 5
}
