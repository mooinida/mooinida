{
 "cells": [
  {
   "cell_type": "code",
   "execution_count": 33,
   "id": "774c7545",
   "metadata": {},
   "outputs": [
    {
     "name": "stdout",
     "output_type": "stream",
     "text": [
      "4 3\n",
      "1 2 3 4\n",
      "2 3 4 5\n",
      "3 4 5 6\n",
      "4 5 6 7\n",
      "2 2 3 4\n",
      "27\n",
      "3 4 3 4\n",
      "6\n",
      "1 1 4 4\n",
      "64\n"
     ]
    }
   ],
   "source": [
    "n,m=map(int,input().split())\n",
    "my=[[0]*(n+1)]\n",
    "hap=0\n",
    "for i in range(n):\n",
    "      my.append([0]+list(map(int,input().split())))\n",
    "for i in range(n):\n",
    "    for j in range(n+1):\n",
    "        my[j][i+1]+=my[j][i]\n",
    "for i in range(n+1):\n",
    "    for j in range(n):\n",
    "        my[j+1][i]+=my[j][i]\n",
    "for i in range(m):\n",
    "    a,b,c,d=map(int,input().split())\n",
    "    print(my[c][d]-my[c][b-1]-my[a-1][d]+my[a-1][b-1])"
   ]
  },
  {
   "cell_type": "code",
   "execution_count": 32,
   "id": "97afaa6c",
   "metadata": {},
   "outputs": [
    {
     "data": {
      "text/plain": [
       "[[0, 0, 0, 0, 0],\n",
       " [0, 1, 3, 6, 4],\n",
       " [0, 3, 8, 15, 5],\n",
       " [0, 6, 15, 27, 6],\n",
       " [0, 4, 5, 6, 7]]"
      ]
     },
     "execution_count": 32,
     "metadata": {},
     "output_type": "execute_result"
    }
   ],
   "source": [
    "my"
   ]
  },
  {
   "cell_type": "code",
   "execution_count": 18,
   "id": "612fba0d",
   "metadata": {},
   "outputs": [
    {
     "name": "stdout",
     "output_type": "stream",
     "text": [
      "1 2 3 4 \n",
      "2 3 4 5 \n",
      "3 4 5 6 \n",
      "4 5 6 7 \n"
     ]
    }
   ],
   "source": [
    "for i in range(n):\n",
    "    for j in range(n):\n",
    "        print(my[i][j],end=' ')\n",
    "    print('')"
   ]
  },
  {
   "cell_type": "code",
   "execution_count": 11,
   "id": "6cc33728",
   "metadata": {},
   "outputs": [],
   "source": [
    "for i in range(n-1):\n",
    "    for j in range(n):\n",
    "        my[i+1][j]+=my[i][j]"
   ]
  },
  {
   "cell_type": "code",
   "execution_count": 19,
   "id": "dc2f7d11",
   "metadata": {},
   "outputs": [],
   "source": [
    "for i in range(n-1):\n",
    "    for j in range(n):\n",
    "        my[j][i+1]+=my[j][i]"
   ]
  },
  {
   "cell_type": "code",
   "execution_count": 20,
   "id": "094bb153",
   "metadata": {},
   "outputs": [
    {
     "name": "stdout",
     "output_type": "stream",
     "text": [
      "1 3 6 10 \n",
      "2 5 9 14 \n",
      "3 7 12 18 \n",
      "4 9 15 22 \n"
     ]
    }
   ],
   "source": [
    "for i in range(n):\n",
    "    for j in range(n):\n",
    "        print(my[i][j],end=' ')\n",
    "    print('')"
   ]
  },
  {
   "cell_type": "code",
   "execution_count": 21,
   "id": "0b4ea580",
   "metadata": {},
   "outputs": [
    {
     "data": {
      "text/plain": [
       "[[1, 3, 6, 10], [2, 5, 9, 14], [3, 7, 12, 18], [4, 9, 15, 22]]"
      ]
     },
     "execution_count": 21,
     "metadata": {},
     "output_type": "execute_result"
    }
   ],
   "source": [
    "my"
   ]
  },
  {
   "cell_type": "code",
   "execution_count": 22,
   "id": "d9f405ab",
   "metadata": {},
   "outputs": [],
   "source": [
    "for i in range(n):\n",
    "    for j in range(n-1):\n",
    "        my[j+1][i]+=my[j][i]"
   ]
  },
  {
   "cell_type": "code",
   "execution_count": 23,
   "id": "c2db972d",
   "metadata": {},
   "outputs": [
    {
     "name": "stdout",
     "output_type": "stream",
     "text": [
      "1 3 6 10 \n",
      "3 8 15 24 \n",
      "6 15 27 42 \n",
      "10 24 42 64 \n"
     ]
    }
   ],
   "source": [
    "for i in range(n):\n",
    "    for j in range(n):\n",
    "        print(my[i][j],end=' ')\n",
    "    print('')"
   ]
  },
  {
   "cell_type": "code",
   "execution_count": 27,
   "id": "c4f15b69",
   "metadata": {},
   "outputs": [
    {
     "name": "stdout",
     "output_type": "stream",
     "text": [
      "2 2 3 4\n",
      "27\n",
      "3 4 3 4\n",
      "6\n",
      "1 1 4 4\n",
      "0\n"
     ]
    }
   ],
   "source": [
    "for i in range(m):\n",
    "    a,b,c,d=map(int,input().split())\n",
    "    print(my[c][d]-my[c][b-1]-my[a-1][d]+my[a-1][b-1])"
   ]
  },
  {
   "cell_type": "code",
   "execution_count": null,
   "id": "0fd6c3ea",
   "metadata": {},
   "outputs": [],
   "source": []
  }
 ],
 "metadata": {
  "kernelspec": {
   "display_name": "Python 3 (ipykernel)",
   "language": "python",
   "name": "python3"
  },
  "language_info": {
   "codemirror_mode": {
    "name": "ipython",
    "version": 3
   },
   "file_extension": ".py",
   "mimetype": "text/x-python",
   "name": "python",
   "nbconvert_exporter": "python",
   "pygments_lexer": "ipython3",
   "version": "3.10.7"
  }
 },
 "nbformat": 4,
 "nbformat_minor": 5
}
