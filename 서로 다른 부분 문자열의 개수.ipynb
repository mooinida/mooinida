{
 "cells": [
  {
   "cell_type": "code",
   "execution_count": 16,
   "id": "15e33283",
   "metadata": {},
   "outputs": [
    {
     "name": "stdout",
     "output_type": "stream",
     "text": [
      "abcdefg\n",
      "28\n"
     ]
    }
   ],
   "source": [
    "n=input()\n",
    "a=set()\n",
    "for i in range(len(n)):\n",
    "    for j in range(i,len(n)):\n",
    "        a.add(n[i:j+1])\n",
    "print(len(a))"
   ]
  }
 ],
 "metadata": {
  "kernelspec": {
   "display_name": "Python 3 (ipykernel)",
   "language": "python",
   "name": "python3"
  },
  "language_info": {
   "codemirror_mode": {
    "name": "ipython",
    "version": 3
   },
   "file_extension": ".py",
   "mimetype": "text/x-python",
   "name": "python",
   "nbconvert_exporter": "python",
   "pygments_lexer": "ipython3",
   "version": "3.10.7"
  }
 },
 "nbformat": 4,
 "nbformat_minor": 5
}
