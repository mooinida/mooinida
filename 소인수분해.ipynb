{
 "cells": [
  {
   "cell_type": "code",
   "execution_count": null,
   "id": "0ba468d7",
   "metadata": {},
   "outputs": [],
   "source": [
    "n=int(input())\n",
    "m=2\n",
    "while(n!=1):\n",
    "    if n%m==0:\n",
    "        print(m)\n",
    "        n=n//m\n",
    "    else:\n",
    "        m+=1\n"
   ]
  }
 ],
 "metadata": {
  "kernelspec": {
   "display_name": "Python 3 (ipykernel)",
   "language": "python",
   "name": "python3"
  },
  "language_info": {
   "codemirror_mode": {
    "name": "ipython",
    "version": 3
   },
   "file_extension": ".py",
   "mimetype": "text/x-python",
   "name": "python",
   "nbconvert_exporter": "python",
   "pygments_lexer": "ipython3",
   "version": "3.10.7"
  }
 },
 "nbformat": 4,
 "nbformat_minor": 5
}
