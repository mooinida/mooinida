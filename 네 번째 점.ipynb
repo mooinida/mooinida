{
 "cells": [
  {
   "cell_type": "code",
   "execution_count": 6,
   "id": "3ffd96ff",
   "metadata": {},
   "outputs": [
    {
     "name": "stdout",
     "output_type": "stream",
     "text": [
      "5 5\n",
      "5 7\n",
      "7 5\n",
      "7 [5, 7, 5] 4\n"
     ]
    }
   ],
   "source": [
    "a=[]\n",
    "b=[]\n",
    "for i in range(3):\n",
    "    x,y=map(int,input().split())\n",
    "    a.append(x)\n",
    "    b.append(y)\n",
    "for i in range(3):\n",
    "    if a.count(a[i])==1:\n",
    "        a4=a[i]\n",
    "    if b.count(b[i])==1:\n",
    "        b4=b[i]\n",
    "print(a4,b4)"
   ]
  },
  {
   "cell_type": "code",
   "execution_count": 7,
   "id": "fb6ac5e7",
   "metadata": {},
   "outputs": [
    {
     "name": "stdout",
     "output_type": "stream",
     "text": [
      "7 7\n"
     ]
    }
   ],
   "source": [
    "print(a4,b4)"
   ]
  },
  {
   "cell_type": "code",
   "execution_count": null,
   "id": "925ca135",
   "metadata": {},
   "outputs": [],
   "source": [
    "if(max)"
   ]
  }
 ],
 "metadata": {
  "kernelspec": {
   "display_name": "Python 3 (ipykernel)",
   "language": "python",
   "name": "python3"
  },
  "language_info": {
   "codemirror_mode": {
    "name": "ipython",
    "version": 3
   },
   "file_extension": ".py",
   "mimetype": "text/x-python",
   "name": "python",
   "nbconvert_exporter": "python",
   "pygments_lexer": "ipython3",
   "version": "3.10.7"
  }
 },
 "nbformat": 4,
 "nbformat_minor": 5
}
