{
 "cells": [
  {
   "cell_type": "code",
   "execution_count": 19,
   "id": "9cd46b99",
   "metadata": {},
   "outputs": [
    {
     "name": "stdout",
     "output_type": "stream",
     "text": [
      "5\n",
      "7\n",
      "3 8\n",
      "8 1 0\n",
      "2 7 4 4 \n",
      "4 5 2 6 5\n",
      "30\n"
     ]
    }
   ],
   "source": [
    "n=int(input())\n",
    "a=[]\n",
    "for i in range(n):\n",
    "    a.append(list(map(int,input().split())))\n",
    "def sol(a):\n",
    "    for i in range(1,n):\n",
    "        for j in range(i+1):\n",
    "            if j==0:\n",
    "                a[i][j]=a[i-1][j]+a[i][j]\n",
    "            elif j==i:\n",
    "                a[i][j]=a[i-1][-1]+a[i][j]\n",
    "            else:\n",
    "                a[i][j]+=max(a[i-1][j-1],a[i-1][j])\n",
    "    return(max(a[-1]))\n",
    "            \n",
    "print(sol(a))"
   ]
  },
  {
   "cell_type": "code",
   "execution_count": null,
   "id": "0e5529e6",
   "metadata": {},
   "outputs": [],
   "source": []
  }
 ],
 "metadata": {
  "kernelspec": {
   "display_name": "Python 3 (ipykernel)",
   "language": "python",
   "name": "python3"
  },
  "language_info": {
   "codemirror_mode": {
    "name": "ipython",
    "version": 3
   },
   "file_extension": ".py",
   "mimetype": "text/x-python",
   "name": "python",
   "nbconvert_exporter": "python",
   "pygments_lexer": "ipython3",
   "version": "3.10.7"
  }
 },
 "nbformat": 4,
 "nbformat_minor": 5
}
