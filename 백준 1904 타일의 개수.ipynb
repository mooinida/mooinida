{
 "cells": [
  {
   "cell_type": "code",
   "execution_count": 10,
   "id": "c9248e82",
   "metadata": {},
   "outputs": [
    {
     "name": "stdout",
     "output_type": "stream",
     "text": [
      "10\n",
      "3\n",
      "5\n",
      "8\n",
      "13\n",
      "21\n",
      "34\n",
      "55\n",
      "89\n",
      "89\n"
     ]
    }
   ],
   "source": [
    "d=[0]*1000000\n",
    "d[0]=1\n",
    "d[1]=2\n",
    "a=int(input())\n",
    "for i in range(2,a):\n",
    "    d[i]=(d[i-1]+d[i-2])%15746\n",
    "    \n",
    "\n",
    "print(d[a-1])"
   ]
  },
  {
   "cell_type": "code",
   "execution_count": null,
   "id": "d48747cd",
   "metadata": {},
   "outputs": [],
   "source": []
  }
 ],
 "metadata": {
  "kernelspec": {
   "display_name": "Python 3 (ipykernel)",
   "language": "python",
   "name": "python3"
  },
  "language_info": {
   "codemirror_mode": {
    "name": "ipython",
    "version": 3
   },
   "file_extension": ".py",
   "mimetype": "text/x-python",
   "name": "python",
   "nbconvert_exporter": "python",
   "pygments_lexer": "ipython3",
   "version": "3.10.7"
  }
 },
 "nbformat": 4,
 "nbformat_minor": 5
}
