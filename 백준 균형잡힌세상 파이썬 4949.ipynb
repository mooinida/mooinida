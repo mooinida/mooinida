{
 "cells": [
  {
   "cell_type": "code",
   "execution_count": null,
   "id": "b3bb3928",
   "metadata": {},
   "outputs": [
    {
     "name": "stdout",
     "output_type": "stream",
     "text": [
      "A rope may form )( a trail in a maze.\n",
      "no\n"
     ]
    }
   ],
   "source": [
    "while True:\n",
    "    a=input()\n",
    "    stack=[]\n",
    "    er=0\n",
    "    if a=='.':\n",
    "        \n",
    "        break\n",
    "    for i in a:\n",
    "        if i=='(':\n",
    "            stack.append(i)\n",
    "        elif i=='[':\n",
    "            stack.append(i)\n",
    "        elif i==')':\n",
    "            if len(stack)!=0 and stack[-1]=='(':\n",
    "                stack.pop()\n",
    "            else:\n",
    "                er+=1\n",
    "                break\n",
    "        elif i==']':\n",
    "            if len(stack)!=0 and stack[-1]=='[':\n",
    "                stack.pop()\n",
    "            else:\n",
    "                er+=1\n",
    "                break\n",
    "    if len(stack)==0 and er==0:\n",
    "        print('yes')\n",
    "    else:\n",
    "        print('no')"
   ]
  },
  {
   "cell_type": "code",
   "execution_count": null,
   "id": "274c2c7b",
   "metadata": {},
   "outputs": [],
   "source": []
  }
 ],
 "metadata": {
  "kernelspec": {
   "display_name": "Python 3 (ipykernel)",
   "language": "python",
   "name": "python3"
  },
  "language_info": {
   "codemirror_mode": {
    "name": "ipython",
    "version": 3
   },
   "file_extension": ".py",
   "mimetype": "text/x-python",
   "name": "python",
   "nbconvert_exporter": "python",
   "pygments_lexer": "ipython3",
   "version": "3.10.7"
  }
 },
 "nbformat": 4,
 "nbformat_minor": 5
}
