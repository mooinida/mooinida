{
 "cells": [
  {
   "cell_type": "code",
   "execution_count": null,
   "id": "dcde7bbf",
   "metadata": {},
   "outputs": [],
   "source": [
    "n=int(input())\n",
    "my=[]\n",
    "my.append(int(input()))\n",
    "for i in range(n-1):\n",
    "    a=int(input())\n",
    "    if a==0:\n",
    "        my.pop()\n",
    "    else:\n",
    "        \n",
    "        "
   ]
  },
  {
   "cell_type": "code",
   "execution_count": null,
   "id": "7093c51f",
   "metadata": {},
   "outputs": [],
   "source": []
  }
 ],
 "metadata": {
  "kernelspec": {
   "display_name": "Python 3 (ipykernel)",
   "language": "python",
   "name": "python3"
  },
  "language_info": {
   "codemirror_mode": {
    "name": "ipython",
    "version": 3
   },
   "file_extension": ".py",
   "mimetype": "text/x-python",
   "name": "python",
   "nbconvert_exporter": "python",
   "pygments_lexer": "ipython3",
   "version": "3.10.7"
  }
 },
 "nbformat": 4,
 "nbformat_minor": 5
}
