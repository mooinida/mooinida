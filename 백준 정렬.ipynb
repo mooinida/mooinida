{
 "cells": [
  {
   "cell_type": "code",
   "execution_count": null,
   "id": "dee3ecaf",
   "metadata": {},
   "outputs": [],
   "source": [
    "a=[]\n",
    "for i in range(5):\n",
    "    n=int(input())\n",
    "    a.append(n)\n",
    "a.sort()\n",
    "print(int(sum(a)/5))\n",
    "print(a[2])\n"
   ]
  }
 ],
 "metadata": {
  "kernelspec": {
   "display_name": "Python 3 (ipykernel)",
   "language": "python",
   "name": "python3"
  },
  "language_info": {
   "codemirror_mode": {
    "name": "ipython",
    "version": 3
   },
   "file_extension": ".py",
   "mimetype": "text/x-python",
   "name": "python",
   "nbconvert_exporter": "python",
   "pygments_lexer": "ipython3",
   "version": "3.10.7"
  }
 },
 "nbformat": 4,
 "nbformat_minor": 5
}
