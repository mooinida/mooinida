{
 "cells": [
  {
   "cell_type": "code",
   "execution_count": 7,
   "id": "6f483141",
   "metadata": {},
   "outputs": [
    {
     "name": "stdout",
     "output_type": "stream",
     "text": [
      "BBBBBBBBWBWBW\n"
     ]
    },
    {
     "ename": "ValueError",
     "evalue": "invalid literal for int() with base 10: 'BBBBBBBBWBWBW'",
     "output_type": "error",
     "traceback": [
      "\u001b[1;31m---------------------------------------------------------------------------\u001b[0m",
      "\u001b[1;31mValueError\u001b[0m                                Traceback (most recent call last)",
      "Cell \u001b[1;32mIn [7], line 1\u001b[0m\n\u001b[1;32m----> 1\u001b[0m n,m\u001b[38;5;241m=\u001b[39m\u001b[38;5;28mmap\u001b[39m(\u001b[38;5;28mint\u001b[39m,\u001b[38;5;28minput\u001b[39m()\u001b[38;5;241m.\u001b[39msplit())\n\u001b[0;32m      2\u001b[0m my\u001b[38;5;241m=\u001b[39m[]\n\u001b[0;32m      3\u001b[0m \u001b[38;5;28;01mfor\u001b[39;00m i \u001b[38;5;129;01min\u001b[39;00m \u001b[38;5;28mrange\u001b[39m(n):\n",
      "\u001b[1;31mValueError\u001b[0m: invalid literal for int() with base 10: 'BBBBBBBBWBWBW'"
     ]
    }
   ],
   "source": [
    "import sys\n",
    "input=sys.stdin.readline\n",
    "n,m=map(int,input().split())\n",
    "my=[]\n",
    "for i in range(n):\n",
    "    my.append(input())\n",
    "li=[]\n",
    "for i in range(n-7):\n",
    "    for j in range(m-7):\n",
    "        cnt=0\n",
    "        cnt1=0\n",
    "        for a in range(i,i+8):\n",
    "            for b in range(j,j+8):\n",
    "                if (a+b)%2==0:\n",
    "                    if my[a][b]=='B':\n",
    "                        cnt+=1\n",
    "                    elif my[a][b]=='W':\n",
    "                        cnt1+=1\n",
    "                else:\n",
    "                    if my[a][b]=='W':\n",
    "                        cnt+=1\n",
    "                    elif my[a][b]=='B':\n",
    "                        cnt1+=1\n",
    "        li.append(cnt1)\n",
    "        li.append(cnt)\n",
    "print(min(li))"
   ]
  },
  {
   "cell_type": "code",
   "execution_count": 4,
   "id": "8d926321",
   "metadata": {},
   "outputs": [
    {
     "ename": "IndexError",
     "evalue": "list index out of range",
     "output_type": "error",
     "traceback": [
      "\u001b[1;31m---------------------------------------------------------------------------\u001b[0m",
      "\u001b[1;31mIndexError\u001b[0m                                Traceback (most recent call last)",
      "Cell \u001b[1;32mIn [4], line 1\u001b[0m\n\u001b[1;32m----> 1\u001b[0m \u001b[43mmy\u001b[49m\u001b[43m[\u001b[49m\u001b[38;5;241;43m1\u001b[39;49m\u001b[43m]\u001b[49m\u001b[43m[\u001b[49m\u001b[38;5;241;43m1\u001b[39;49m\u001b[43m]\u001b[49m\n",
      "\u001b[1;31mIndexError\u001b[0m: list index out of range"
     ]
    }
   ],
   "source": [
    "my[1][1]"
   ]
  },
  {
   "cell_type": "code",
   "execution_count": null,
   "id": "cffe97f3",
   "metadata": {},
   "outputs": [],
   "source": []
  }
 ],
 "metadata": {
  "kernelspec": {
   "display_name": "Python 3 (ipykernel)",
   "language": "python",
   "name": "python3"
  },
  "language_info": {
   "codemirror_mode": {
    "name": "ipython",
    "version": 3
   },
   "file_extension": ".py",
   "mimetype": "text/x-python",
   "name": "python",
   "nbconvert_exporter": "python",
   "pygments_lexer": "ipython3",
   "version": "3.10.7"
  }
 },
 "nbformat": 4,
 "nbformat_minor": 5
}
