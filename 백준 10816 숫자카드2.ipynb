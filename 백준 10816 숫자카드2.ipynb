{
 "cells": [
  {
   "cell_type": "code",
   "execution_count": 45,
   "id": "92a603bc",
   "metadata": {},
   "outputs": [
    {
     "name": "stdout",
     "output_type": "stream",
     "text": [
      "10\n",
      "6 3 2 10 10 10 -10 -10 7 3\n",
      "8\n",
      "10 9 -5 2 3 4 5 -10\n",
      "3 0 0 1 2 0 0 2 "
     ]
    }
   ],
   "source": [
    "n=int(input())\n",
    "my=list(map(int,input().split()))\n",
    "m=int(input())\n",
    "dic=list(map(int,input().split()))\n",
    "dict={}\n",
    "for i in range(m):\n",
    "    dict[dic[i]]=0\n",
    "for i in range(n):\n",
    "    if my[i] in dict:\n",
    "        dict[my[i]]+=1\n",
    "for i in range(m):\n",
    "    print(dict[dic[i]],end=' ')\n"
   ]
  }
 ],
 "metadata": {
  "kernelspec": {
   "display_name": "Python 3 (ipykernel)",
   "language": "python",
   "name": "python3"
  },
  "language_info": {
   "codemirror_mode": {
    "name": "ipython",
    "version": 3
   },
   "file_extension": ".py",
   "mimetype": "text/x-python",
   "name": "python",
   "nbconvert_exporter": "python",
   "pygments_lexer": "ipython3",
   "version": "3.10.7"
  }
 },
 "nbformat": 4,
 "nbformat_minor": 5
}
