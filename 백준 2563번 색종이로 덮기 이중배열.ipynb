{
 "cells": [
  {
   "cell_type": "code",
   "execution_count": null,
   "id": "ded73d27",
   "metadata": {},
   "outputs": [],
   "source": [
    "paper=[[0 for i in range(101)] for i in range(101)]\n",
    "n=int(input())\n",
    "for i in range(n):\n",
    "    x,y=map(int,input().split())\n",
    "    for row in range(x,x+10):\n",
    "        for col in range(y,y+10):\n",
    "            paper[row][col]=1\n",
    "result=0\n",
    "for i in paper:\n",
    "    result+=i.count(1)\n",
    "print(result)\n",
    "    "
   ]
  }
 ],
 "metadata": {
  "kernelspec": {
   "display_name": "Python 3 (ipykernel)",
   "language": "python",
   "name": "python3"
  },
  "language_info": {
   "codemirror_mode": {
    "name": "ipython",
    "version": 3
   },
   "file_extension": ".py",
   "mimetype": "text/x-python",
   "name": "python",
   "nbconvert_exporter": "python",
   "pygments_lexer": "ipython3",
   "version": "3.10.7"
  }
 },
 "nbformat": 4,
 "nbformat_minor": 5
}
