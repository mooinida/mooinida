{
 "cells": [
  {
   "cell_type": "code",
   "execution_count": 10,
   "id": "82579d34",
   "metadata": {},
   "outputs": [
    {
     "name": "stdout",
     "output_type": "stream",
     "text": [
      "11\n",
      "3\n"
     ]
    }
   ],
   "source": [
    "n=int(input())\n",
    "i=0\n",
    "if(n%5==0):\n",
    "    while(n!=0):\n",
    "        n-=5\n",
    "        i+=1\n",
    "    print(i)\n",
    "elif(n<3):\n",
    "    print(-1)\n",
    "elif(n%15==3 or (n-5)%15==3 or (n-10)%15==3):\n",
    "    while(n!=3):\n",
    "        n-=5\n",
    "        i+=1\n",
    "    while(n>0):\n",
    "        n-=3\n",
    "        i+=1\n",
    "    print(i)\n",
    "elif( n%15==6 or (n-5)%15==6 or (n-5)%15==6):\n",
    "    while(n!=6):\n",
    "        n-=5\n",
    "        i+=1\n",
    "    while(n>0):\n",
    "        n-=3\n",
    "        i+=1\n",
    "    print(i)\n",
    "elif(n%15==9 or (n-5)%15==9 or (n-5)%15==9):\n",
    "    while(n!=9):\n",
    "        n-=5\n",
    "        i+=1\n",
    "    while(n>0):\n",
    "        n-=3\n",
    "        i+=1\n",
    "    print(i)\n",
    "elif( n%15==12 or (n-5)%15==12 or (n-10)%15==12):\n",
    "    while(n!=12):\n",
    "        n-=5\n",
    "        i+=1\n",
    "    while(n>0):\n",
    "        n-=3\n",
    "        i+=1\n",
    "    print(i)\n",
    "elif(n%3==0):\n",
    "    while(n!=0):\n",
    "        n-=3\n",
    "        i+=1\n",
    "    print(i)\n",
    "        \n",
    "\n",
    "else:\n",
    "    print(-1)\n",
    "        \n",
    "\n",
    "        \n",
    "    "
   ]
  },
  {
   "cell_type": "code",
   "execution_count": 14,
   "id": "450c5773",
   "metadata": {},
   "outputs": [
    {
     "name": "stdout",
     "output_type": "stream",
     "text": [
      "14\n",
      "4\n"
     ]
    }
   ],
   "source": [
    "n=int(input())\n",
    "i=0\n",
    "while n>=0:\n",
    "    if n%5==0:\n",
    "        i+=n//5\n",
    "        print(i)\n",
    "        break\n",
    "    n-=3\n",
    "    i+=1\n",
    "else:\n",
    "    print(-1)"
   ]
  },
  {
   "cell_type": "code",
   "execution_count": null,
   "id": "38cd8ef8",
   "metadata": {},
   "outputs": [],
   "source": []
  }
 ],
 "metadata": {
  "kernelspec": {
   "display_name": "Python 3 (ipykernel)",
   "language": "python",
   "name": "python3"
  },
  "language_info": {
   "codemirror_mode": {
    "name": "ipython",
    "version": 3
   },
   "file_extension": ".py",
   "mimetype": "text/x-python",
   "name": "python",
   "nbconvert_exporter": "python",
   "pygments_lexer": "ipython3",
   "version": "3.10.7"
  }
 },
 "nbformat": 4,
 "nbformat_minor": 5
}
