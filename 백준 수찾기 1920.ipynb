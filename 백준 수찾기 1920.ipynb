{
 "cells": [
  {
   "cell_type": "code",
   "execution_count": null,
   "id": "73930bff",
   "metadata": {},
   "outputs": [],
   "source": [
    "for i in range(m):\n",
    "    mine()"
   ]
  },
  {
   "cell_type": "code",
   "execution_count": 10,
   "id": "bdc9e813",
   "metadata": {},
   "outputs": [
    {
     "name": "stdout",
     "output_type": "stream",
     "text": [
      "5\n",
      "4 1 5 2 3\n",
      "5\n",
      "1 3 7 9 5\n"
     ]
    }
   ],
   "source": [
    "n=int(input())\n",
    "a=list(map(int,input().split()))\n",
    "m=int(input())\n",
    "my=list(map(int,input().split()))\n",
    "mine={}\n",
    "for i in range(m):\n",
    "    mine[my[i]]=0"
   ]
  },
  {
   "cell_type": "code",
   "execution_count": 13,
   "id": "9929bf10",
   "metadata": {},
   "outputs": [
    {
     "name": "stdout",
     "output_type": "stream",
     "text": [
      "0\n",
      "0\n",
      "0\n",
      "0\n",
      "0\n"
     ]
    }
   ],
   "source": [
    "for i in range(n):\n",
    "    if a[i] in mine:\n",
    "        mine[a[i]]==1\n",
    "for i in range(m):\n",
    "    print(mine[my[i]])"
   ]
  },
  {
   "cell_type": "code",
   "execution_count": 14,
   "id": "9128a97f",
   "metadata": {},
   "outputs": [
    {
     "data": {
      "text/plain": [
       "{1: 0, 3: 0, 7: 0, 9: 0, 5: 0}"
      ]
     },
     "execution_count": 14,
     "metadata": {},
     "output_type": "execute_result"
    }
   ],
   "source": [
    "mine"
   ]
  },
  {
   "cell_type": "code",
   "execution_count": null,
   "id": "3e591d28",
   "metadata": {},
   "outputs": [],
   "source": []
  }
 ],
 "metadata": {
  "kernelspec": {
   "display_name": "Python 3 (ipykernel)",
   "language": "python",
   "name": "python3"
  },
  "language_info": {
   "codemirror_mode": {
    "name": "ipython",
    "version": 3
   },
   "file_extension": ".py",
   "mimetype": "text/x-python",
   "name": "python",
   "nbconvert_exporter": "python",
   "pygments_lexer": "ipython3",
   "version": "3.10.7"
  }
 },
 "nbformat": 4,
 "nbformat_minor": 5
}
