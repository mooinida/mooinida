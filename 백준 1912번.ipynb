{
 "cells": [
  {
   "cell_type": "code",
   "execution_count": 7,
   "id": "a64cef44",
   "metadata": {},
   "outputs": [
    {
     "name": "stdout",
     "output_type": "stream",
     "text": [
      "10\n",
      "10 -4 3 1 5 6 -35 12 21 -1\n"
     ]
    }
   ],
   "source": [
    "n=int(input())\n",
    "d=list(map(int,input().split()))\n",
    "for i in range(n-1):\n",
    "    d[i+1]=max(d[i+1],(d[i+1]+d[i]))\n"
   ]
  },
  {
   "cell_type": "code",
   "execution_count": 4,
   "id": "c3e0943e",
   "metadata": {},
   "outputs": [],
   "source": [
    "a=[0]*n\n",
    "a[0]=10"
   ]
  },
  {
   "cell_type": "code",
   "execution_count": 8,
   "id": "d8689bae",
   "metadata": {},
   "outputs": [],
   "source": [
    "\n",
    "for i in range(n-1):\n",
    "    d[i+1]=max(d[i+1],(d[i+1]+d[i]))"
   ]
  },
  {
   "cell_type": "code",
   "execution_count": 9,
   "id": "1bce95d2",
   "metadata": {},
   "outputs": [
    {
     "data": {
      "text/plain": [
       "[10, 6, 9, 10, 15, 21, -14, 12, 33, 32]"
      ]
     },
     "execution_count": 9,
     "metadata": {},
     "output_type": "execute_result"
    }
   ],
   "source": [
    "d"
   ]
  },
  {
   "cell_type": "code",
   "execution_count": null,
   "id": "17786b7e",
   "metadata": {},
   "outputs": [],
   "source": [
    "a[2]="
   ]
  }
 ],
 "metadata": {
  "kernelspec": {
   "display_name": "Python 3 (ipykernel)",
   "language": "python",
   "name": "python3"
  },
  "language_info": {
   "codemirror_mode": {
    "name": "ipython",
    "version": 3
   },
   "file_extension": ".py",
   "mimetype": "text/x-python",
   "name": "python",
   "nbconvert_exporter": "python",
   "pygments_lexer": "ipython3",
   "version": "3.10.7"
  }
 },
 "nbformat": 4,
 "nbformat_minor": 5
}
