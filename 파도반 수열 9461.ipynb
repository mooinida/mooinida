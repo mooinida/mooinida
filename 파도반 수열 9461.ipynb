{
 "cells": [
  {
   "cell_type": "code",
   "execution_count": 9,
   "id": "2e475fa2",
   "metadata": {},
   "outputs": [
    {
     "name": "stdout",
     "output_type": "stream",
     "text": [
      "2\n",
      "6\n",
      "3\n",
      "12\n",
      "16\n"
     ]
    }
   ],
   "source": [
    "n=int(input())\n",
    "d=[0]*100\n",
    "d[0]=1\n",
    "d[1]=1\n",
    "d[2]=1\n",
    "d[3]=2\n",
    "d[4]=2\n",
    "\n",
    "for i in range(5,100):\n",
    "    d[i]=d[i-1]+d[i-5]\n",
    "for i in range(n):\n",
    "    t=int(input())\n",
    "    print(d[t-1])"
   ]
  },
  {
   "cell_type": "code",
   "execution_count": null,
   "id": "5603982b",
   "metadata": {},
   "outputs": [],
   "source": []
  }
 ],
 "metadata": {
  "kernelspec": {
   "display_name": "Python 3 (ipykernel)",
   "language": "python",
   "name": "python3"
  },
  "language_info": {
   "codemirror_mode": {
    "name": "ipython",
    "version": 3
   },
   "file_extension": ".py",
   "mimetype": "text/x-python",
   "name": "python",
   "nbconvert_exporter": "python",
   "pygments_lexer": "ipython3",
   "version": "3.10.7"
  }
 },
 "nbformat": 4,
 "nbformat_minor": 5
}
