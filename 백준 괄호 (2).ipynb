{
 "cells": [
  {
   "cell_type": "code",
   "execution_count": 2,
   "id": "4ae0c7c4",
   "metadata": {},
   "outputs": [
    {
     "name": "stdout",
     "output_type": "stream",
     "text": [
      "3\n",
      "((\n",
      "0 ['(', '(']\n",
      "NO\n",
      "))\n",
      "2 []\n",
      "NO\n",
      "())(()\n",
      "1 ['(']\n",
      "NO\n"
     ]
    }
   ],
   "source": [
    "n=int(input())\n",
    "for i in range(n):\n",
    "    \n",
    "    a=input()\n",
    "    my=0\n",
    "    for j in a:\n",
    "        if j=='(':\n",
    "            my+=1\n",
    "        elif j==')':\n",
    "            my-=1\n",
    "        if my<0:\n",
    "            print('NO')\n",
    "            break\n",
    "    \n",
    "    if my>0:\n",
    "        print('NO')\n",
    "    elif my==0:\n",
    "        print('YES')"
   ]
  },
  {
   "cell_type": "code",
   "execution_count": null,
   "id": "31b4378e",
   "metadata": {},
   "outputs": [],
   "source": []
  }
 ],
 "metadata": {
  "kernelspec": {
   "display_name": "Python 3 (ipykernel)",
   "language": "python",
   "name": "python3"
  },
  "language_info": {
   "codemirror_mode": {
    "name": "ipython",
    "version": 3
   },
   "file_extension": ".py",
   "mimetype": "text/x-python",
   "name": "python",
   "nbconvert_exporter": "python",
   "pygments_lexer": "ipython3",
   "version": "3.10.7"
  }
 },
 "nbformat": 4,
 "nbformat_minor": 5
}
