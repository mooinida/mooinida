{
 "cells": [
  {
   "cell_type": "code",
   "execution_count": 55,
   "id": "b0862c87",
   "metadata": {},
   "outputs": [
    {
     "name": "stdout",
     "output_type": "stream",
     "text": [
      "3 3\n",
      "1 1 1 \n",
      "1 1 2 \n",
      "1 1 3 \n",
      "1 2 1 \n",
      "1 2 2 \n",
      "1 2 3 \n",
      "1 3 1 \n",
      "1 3 2 \n",
      "1 3 3 \n",
      "2 1 1 \n",
      "2 1 2 \n",
      "2 1 3 \n",
      "2 2 1 \n",
      "2 2 2 \n",
      "2 2 3 \n",
      "2 3 1 \n",
      "2 3 2 \n",
      "2 3 3 \n",
      "3 1 1 \n",
      "3 1 2 \n",
      "3 1 3 \n",
      "3 2 1 \n",
      "3 2 2 \n",
      "3 2 3 \n",
      "3 3 1 \n",
      "3 3 2 \n",
      "3 3 3 \n"
     ]
    }
   ],
   "source": [
    "def dfs():\n",
    "    if len(s) == m:\n",
    "        for i in range(m):\n",
    "            print(s[i],end=' ')\n",
    "        print('')\n",
    "        return\n",
    "    for i in range(1, n+1):\n",
    "        s.append(i)\n",
    "        dfs()\n",
    "        s.pop()\n",
    "        \n",
    "            \n",
    "\n",
    "n, m = map(int, input().split())\n",
    "s = []\n",
    "\n",
    "\n",
    "dfs()"
   ]
  },
  {
   "cell_type": "code",
   "execution_count": 58,
   "id": "2c33c64f",
   "metadata": {},
   "outputs": [
    {
     "name": "stdout",
     "output_type": "stream",
     "text": [
      "4 2\n",
      "1 2\n",
      "1 3\n",
      "1 4\n",
      "2 3\n",
      "2 4\n",
      "3 4\n"
     ]
    }
   ],
   "source": [
    "n,m=map(int,input().split())\n",
    "s=[]\n",
    "def dfs(start):\n",
    "    if len(s)==m:\n",
    "        print(' '.join(map(str,s)))\n",
    "        return\n",
    "    for i in range(start,n+1):\n",
    "        s.append(i)\n",
    "        dfs(i+1)\n",
    "        s.pop()\n",
    "dfs(1)"
   ]
  },
  {
   "cell_type": "code",
   "execution_count": 63,
   "id": "5f29349e",
   "metadata": {},
   "outputs": [
    {
     "name": "stdout",
     "output_type": "stream",
     "text": [
      "4 2\n",
      "[1]\n",
      "[1, 1]\n",
      "1 1 \n",
      "[1, 2]\n",
      "1 2 \n",
      "[1, 3]\n",
      "1 3 \n",
      "[1, 4]\n",
      "1 4 \n",
      "[2]\n",
      "[2, 2]\n",
      "2 2 \n",
      "[2, 3]\n",
      "2 3 \n",
      "[2, 4]\n",
      "2 4 \n",
      "[3]\n",
      "[3, 3]\n",
      "3 3 \n",
      "[3, 4]\n",
      "3 4 \n",
      "[4]\n",
      "[4, 4]\n",
      "4 4 \n"
     ]
    }
   ],
   "source": [
    "def dfs(a):\n",
    "    if len(s) == m:\n",
    "        for i in range(m):\n",
    "            print(s[i],end=' ')\n",
    "        print('')\n",
    "        return\n",
    "    for i in range(a, n+1):\n",
    "        s.append(i)\n",
    "        print(s)\n",
    "        dfs(i)\n",
    "        s.pop()\n",
    "        \n",
    "            \n",
    "\n",
    "n, m = map(int, input().split())\n",
    "s = []\n",
    "\n",
    "\n",
    "dfs(1)"
   ]
  },
  {
   "cell_type": "code",
   "execution_count": null,
   "id": "b341fb40",
   "metadata": {},
   "outputs": [],
   "source": []
  }
 ],
 "metadata": {
  "kernelspec": {
   "display_name": "Python 3 (ipykernel)",
   "language": "python",
   "name": "python3"
  },
  "language_info": {
   "codemirror_mode": {
    "name": "ipython",
    "version": 3
   },
   "file_extension": ".py",
   "mimetype": "text/x-python",
   "name": "python",
   "nbconvert_exporter": "python",
   "pygments_lexer": "ipython3",
   "version": "3.10.7"
  }
 },
 "nbformat": 4,
 "nbformat_minor": 5
}
