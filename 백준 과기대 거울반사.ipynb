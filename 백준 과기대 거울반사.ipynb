{
 "cells": [
  {
   "cell_type": "code",
   "execution_count": 69,
   "id": "f3f79482",
   "metadata": {
    "scrolled": true
   },
   "outputs": [
    {
     "name": "stdout",
     "output_type": "stream",
     "text": [
      "L 4\n",
      "1 2 3 4\n",
      "5 6 7 8\n",
      "4 3 2 1\n",
      "8 7 5 6\n",
      "? ? 5 1 \n",
      "8 ? ? 2 \n",
      "1 5 ? ? \n",
      "? 2 ? 8 \n"
     ]
    }
   ],
   "source": [
    "d,n=input().split()\n",
    "n=int(n)\n",
    "my=[0 for _ in range(n)]\n",
    "for i in range(n):\n",
    "    my[i]=list(map(int,input().split()))\n",
    "if d=='D' or d=='U':\n",
    "    for i in range(n//2):\n",
    "        tmp=[[0]*n]*n\n",
    "        tmp[i]=my[i]\n",
    "        my[i]=my[n-i-1]\n",
    "        my[n-i-1]=tmp[i]\n",
    "    for i in range(n):\n",
    "        for j in range(n):\n",
    "            if my[i][j]==8:\n",
    "                my[i][j]=8\n",
    "            elif my[i][j]==2:\n",
    "                my[i][j]=5\n",
    "            elif my[i][j]==5:\n",
    "                my[i][j]=2\n",
    "            elif my[i][j]==1:\n",
    "                my[i][j]=1\n",
    "            else:\n",
    "                my[i][j]='?'\n",
    "if d=='L' or d=='R':\n",
    "    for i in range(n):\n",
    "        my[i]=list(reversed(my[i]))\n",
    "    for i in range(n):\n",
    "        for j in range(n):\n",
    "            if my[i][j]==8:\n",
    "                my[i][j]=8\n",
    "            elif my[i][j]==2:\n",
    "                my[i][j]=5\n",
    "            elif my[i][j]==5:\n",
    "                my[i][j]=2\n",
    "            elif my[i][j]==1:\n",
    "                my[i][j]=1\n",
    "            else:\n",
    "                my[i][j]='?'\n",
    "for i in range(n):\n",
    "    for j in range(n):\n",
    "        print(my[i][j],end=' ')\n",
    "    print('')"
   ]
  },
  {
   "cell_type": "code",
   "execution_count": 62,
   "id": "b0da53c8",
   "metadata": {},
   "outputs": [],
   "source": [
    "my=list(reversed(my))"
   ]
  },
  {
   "cell_type": "code",
   "execution_count": 63,
   "id": "99ed73e6",
   "metadata": {},
   "outputs": [
    {
     "name": "stdout",
     "output_type": "stream",
     "text": [
      "[[1, 5, '?'], ['?', 2, '?'], ['?', 8, '?']]\n"
     ]
    }
   ],
   "source": [
    "print(my)"
   ]
  },
  {
   "cell_type": "code",
   "execution_count": 64,
   "id": "adb19db8",
   "metadata": {},
   "outputs": [
    {
     "name": "stdout",
     "output_type": "stream",
     "text": [
      "[['?', 8, '?'], ['?', 2, '?'], [1, 5, '?']]\n"
     ]
    }
   ],
   "source": [
    "print(list(reversed(my)))"
   ]
  },
  {
   "cell_type": "code",
   "execution_count": 67,
   "id": "602deef9",
   "metadata": {},
   "outputs": [
    {
     "name": "stdout",
     "output_type": "stream",
     "text": [
      "['?', 8, '?']\n",
      "['?', 2, '?']\n",
      "['?', 5, 1]\n"
     ]
    }
   ],
   "source": [
    "for i in range(n):\n",
    "    print(list(reversed(my[i])))"
   ]
  },
  {
   "cell_type": "code",
   "execution_count": null,
   "id": "6b37e35c",
   "metadata": {},
   "outputs": [],
   "source": []
  }
 ],
 "metadata": {
  "kernelspec": {
   "display_name": "Python 3 (ipykernel)",
   "language": "python",
   "name": "python3"
  },
  "language_info": {
   "codemirror_mode": {
    "name": "ipython",
    "version": 3
   },
   "file_extension": ".py",
   "mimetype": "text/x-python",
   "name": "python",
   "nbconvert_exporter": "python",
   "pygments_lexer": "ipython3",
   "version": "3.10.7"
  }
 },
 "nbformat": 4,
 "nbformat_minor": 5
}
