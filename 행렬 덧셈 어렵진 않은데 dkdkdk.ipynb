{
 "cells": [
  {
   "cell_type": "code",
   "execution_count": 8,
   "id": "67175b7a",
   "metadata": {},
   "outputs": [
    {
     "name": "stdout",
     "output_type": "stream",
     "text": [
      "1 1\n",
      "1 1 1 \n",
      "2 2 2\n",
      "3 0\n",
      "0\n",
      "\n"
     ]
    }
   ],
   "source": [
    "a=[]\n",
    "b=[]\n",
    "n,m=map(int,input().split())\n",
    "for row in range(n):\n",
    "    row=list(map(int,input().split()))\n",
    "    a.append(row)\n",
    "for row in range(n):\n",
    "    row=list(map(int,input().split()))\n",
    "    b.append(row)\n",
    "for row in range(n):\n",
    "    for col in range(m):\n",
    "        print(a[row][col]+b[row][col],end=' ')\n",
    "        print(row)\n",
    "        print(col)\n",
    "    print()"
   ]
  },
  {
   "cell_type": "code",
   "execution_count": 4,
   "id": "551df1e7",
   "metadata": {},
   "outputs": [
    {
     "name": "stdout",
     "output_type": "stream",
     "text": [
      "3 3 3\n",
      "2 2 2\n",
      "1 1 1\n",
      "[[3, 3, 3], [2, 2, 2], [1, 1, 1]]\n"
     ]
    }
   ],
   "source": [
    "a=[]\n",
    "for i in range(3):\n",
    "    i=list(map(int,input().split()))\n",
    "    a.append(i)\n",
    "print(a)"
   ]
  },
  {
   "cell_type": "code",
   "execution_count": 9,
   "id": "933048f4",
   "metadata": {},
   "outputs": [
    {
     "ename": "IndexError",
     "evalue": "list index out of range",
     "output_type": "error",
     "traceback": [
      "\u001b[1;31m---------------------------------------------------------------------------\u001b[0m",
      "\u001b[1;31mIndexError\u001b[0m                                Traceback (most recent call last)",
      "Cell \u001b[1;32mIn [9], line 8\u001b[0m\n\u001b[0;32m      6\u001b[0m     arr \u001b[38;5;241m=\u001b[39m \u001b[38;5;28mlist\u001b[39m(\u001b[38;5;28mmap\u001b[39m(\u001b[38;5;28mint\u001b[39m,\u001b[38;5;28minput\u001b[39m()\u001b[38;5;241m.\u001b[39msplit()))\n\u001b[0;32m      7\u001b[0m     \u001b[38;5;28;01mfor\u001b[39;00m j \u001b[38;5;129;01min\u001b[39;00m \u001b[38;5;28mrange\u001b[39m(\u001b[38;5;241m9\u001b[39m):\n\u001b[1;32m----> 8\u001b[0m         \u001b[38;5;28;01mif\u001b[39;00m \u001b[43marr\u001b[49m\u001b[43m[\u001b[49m\u001b[43mj\u001b[49m\u001b[43m]\u001b[49m \u001b[38;5;241m>\u001b[39m ans:\n\u001b[0;32m      9\u001b[0m             ans,x,y \u001b[38;5;241m=\u001b[39m arr[j],i,j\n\u001b[0;32m     10\u001b[0m \u001b[38;5;28mprint\u001b[39m(ans,x\u001b[38;5;241m+\u001b[39m\u001b[38;5;241m1\u001b[39m,y\u001b[38;5;241m+\u001b[39m\u001b[38;5;241m1\u001b[39m,sep\u001b[38;5;241m=\u001b[39m\u001b[38;5;124m\"\u001b[39m\u001b[38;5;130;01m\\n\u001b[39;00m\u001b[38;5;124m\"\u001b[39m)\n",
      "\u001b[1;31mIndexError\u001b[0m: list index out of range"
     ]
    }
   ],
   "source": [
    "import sys\n",
    "input = sys.stdin.readline\n",
    "\n",
    "ans,x,y = -1,0,0\n",
    "for i in range(9):\n",
    "    arr = list(map(int,input().split()))\n",
    "    for j in range(9):\n",
    "        if arr[j] > ans:\n",
    "            ans,x,y = arr[j],i,j\n",
    "print(ans,x+1,y+1,sep=\"\\n\")"
   ]
  },
  {
   "cell_type": "code",
   "execution_count": 10,
   "id": "1d0ded83",
   "metadata": {},
   "outputs": [
    {
     "ename": "IndexError",
     "evalue": "list index out of range",
     "output_type": "error",
     "traceback": [
      "\u001b[1;31m---------------------------------------------------------------------------\u001b[0m",
      "\u001b[1;31mIndexError\u001b[0m                                Traceback (most recent call last)",
      "Cell \u001b[1;32mIn [10], line 6\u001b[0m\n\u001b[0;32m      4\u001b[0m line\u001b[38;5;241m=\u001b[39m\u001b[38;5;28mlist\u001b[39m(\u001b[38;5;28mmap\u001b[39m(\u001b[38;5;28mint\u001b[39m,\u001b[38;5;28minput\u001b[39m()\u001b[38;5;241m.\u001b[39msplit()))\n\u001b[0;32m      5\u001b[0m \u001b[38;5;28;01mfor\u001b[39;00m j \u001b[38;5;129;01min\u001b[39;00m \u001b[38;5;28mrange\u001b[39m(\u001b[38;5;241m9\u001b[39m):\n\u001b[1;32m----> 6\u001b[0m     \u001b[38;5;28;01mif\u001b[39;00m \u001b[43mline\u001b[49m\u001b[43m[\u001b[49m\u001b[43mj\u001b[49m\u001b[43m]\u001b[49m\u001b[38;5;241m>\u001b[39mn:\n\u001b[0;32m      7\u001b[0m         n\u001b[38;5;241m=\u001b[39mline[j]\n\u001b[0;32m      8\u001b[0m         x\u001b[38;5;241m=\u001b[39mi\n",
      "\u001b[1;31mIndexError\u001b[0m: list index out of range"
     ]
    }
   ],
   "source": [
    "n=0\n",
    "x,y=0,0\n",
    "for i in range(9):\n",
    "    line=list(map(int,input().split()))\n",
    "    if max\n",
    "print(n,x+1,y+1,sep='\\n')\n",
    "        "
   ]
  },
  {
   "cell_type": "code",
   "execution_count": 11,
   "id": "0420b3b3",
   "metadata": {},
   "outputs": [
    {
     "ename": "IndexError",
     "evalue": "list index out of range",
     "output_type": "error",
     "traceback": [
      "\u001b[1;31m---------------------------------------------------------------------------\u001b[0m",
      "\u001b[1;31mIndexError\u001b[0m                                Traceback (most recent call last)",
      "Cell \u001b[1;32mIn [11], line 8\u001b[0m\n\u001b[0;32m      6\u001b[0m     arr \u001b[38;5;241m=\u001b[39m \u001b[38;5;28mlist\u001b[39m(\u001b[38;5;28mmap\u001b[39m(\u001b[38;5;28mint\u001b[39m,\u001b[38;5;28minput\u001b[39m()\u001b[38;5;241m.\u001b[39msplit()))\n\u001b[0;32m      7\u001b[0m     \u001b[38;5;28;01mfor\u001b[39;00m j \u001b[38;5;129;01min\u001b[39;00m \u001b[38;5;28mrange\u001b[39m(\u001b[38;5;241m9\u001b[39m):\n\u001b[1;32m----> 8\u001b[0m         \u001b[38;5;28;01mif\u001b[39;00m \u001b[43marr\u001b[49m\u001b[43m[\u001b[49m\u001b[43mj\u001b[49m\u001b[43m]\u001b[49m \u001b[38;5;241m>\u001b[39m ans:\n\u001b[0;32m      9\u001b[0m             ans,x,y \u001b[38;5;241m=\u001b[39m arr[j],i,j\n\u001b[0;32m     10\u001b[0m \u001b[38;5;28mprint\u001b[39m(ans,x\u001b[38;5;241m+\u001b[39m\u001b[38;5;241m1\u001b[39m,y\u001b[38;5;241m+\u001b[39m\u001b[38;5;241m1\u001b[39m,sep\u001b[38;5;241m=\u001b[39m\u001b[38;5;124m\"\u001b[39m\u001b[38;5;130;01m\\n\u001b[39;00m\u001b[38;5;124m\"\u001b[39m)\n",
      "\u001b[1;31mIndexError\u001b[0m: list index out of range"
     ]
    }
   ],
   "source": [
    "import sys\n",
    "input = sys.stdin.readline\n",
    "\n",
    "ans,x,y = -1,0,0\n",
    "for i in range(9):\n",
    "    arr = list(map(int,input().split()))\n",
    "        if  max(arr)> ans:\n",
    "            ans,x,y = max(arr),i,line.index()\n",
    "print(ans,x+1,y+1,sep=\"\\n\")"
   ]
  },
  {
   "cell_type": "code",
   "execution_count": 29,
   "id": "293c791a",
   "metadata": {},
   "outputs": [
    {
     "name": "stdout",
     "output_type": "stream",
     "text": [
      "0\n",
      "1 1\n"
     ]
    }
   ],
   "source": [
    "max_num=0\n",
    "col=0\n",
    "row=0\n",
    "\n",
    "for i in range(9):\n",
    "    line = list(map(int,input().split()))\n",
    "    if len(line)>1:\n",
    "        if max(line)>max_num:\n",
    "            max_num=max(line)\n",
    "            col=i\n",
    "            row=line.index(max_num)\n",
    "print(max_num)\n",
    "print(col+1,row+1)"
   ]
  },
  {
   "cell_type": "code",
   "execution_count": 17,
   "id": "00dd113f",
   "metadata": {},
   "outputs": [],
   "source": [
    "a=[1,2,3,4,5,6,7,8,9]"
   ]
  },
  {
   "cell_type": "code",
   "execution_count": 18,
   "id": "8415e6ef",
   "metadata": {},
   "outputs": [
    {
     "data": {
      "text/plain": [
       "9"
      ]
     },
     "execution_count": 18,
     "metadata": {},
     "output_type": "execute_result"
    }
   ],
   "source": [
    "max(a)"
   ]
  },
  {
   "cell_type": "code",
   "execution_count": 28,
   "id": "71675368",
   "metadata": {},
   "outputs": [
    {
     "data": {
      "text/plain": [
       "9"
      ]
     },
     "execution_count": 28,
     "metadata": {},
     "output_type": "execute_result"
    }
   ],
   "source": [
    "len(a)"
   ]
  },
  {
   "cell_type": "code",
   "execution_count": 32,
   "id": "d19b4ab9",
   "metadata": {},
   "outputs": [
    {
     "ename": "ValueError",
     "evalue": "max() arg is an empty sequence",
     "output_type": "error",
     "traceback": [
      "\u001b[1;31m---------------------------------------------------------------------------\u001b[0m",
      "\u001b[1;31mValueError\u001b[0m                                Traceback (most recent call last)",
      "Cell \u001b[1;32mIn [32], line 8\u001b[0m\n\u001b[0;32m      5\u001b[0m \u001b[38;5;28;01mfor\u001b[39;00m i \u001b[38;5;129;01min\u001b[39;00m \u001b[38;5;28mrange\u001b[39m(\u001b[38;5;241m9\u001b[39m):\n\u001b[0;32m      6\u001b[0m     line \u001b[38;5;241m=\u001b[39m \u001b[38;5;28mlist\u001b[39m(\u001b[38;5;28mmap\u001b[39m(\u001b[38;5;28mint\u001b[39m,\u001b[38;5;28minput\u001b[39m()\u001b[38;5;241m.\u001b[39msplit()))\n\u001b[1;32m----> 8\u001b[0m     \u001b[38;5;28;01mif\u001b[39;00m max_num\u001b[38;5;241m<\u001b[39m\u001b[38;5;28;43mmax\u001b[39;49m\u001b[43m(\u001b[49m\u001b[43mline\u001b[49m\u001b[43m)\u001b[49m:\n\u001b[0;32m      9\u001b[0m         max_num\u001b[38;5;241m=\u001b[39m\u001b[38;5;28mmax\u001b[39m(line)\n\u001b[0;32m     10\u001b[0m         col\u001b[38;5;241m=\u001b[39mi\n",
      "\u001b[1;31mValueError\u001b[0m: max() arg is an empty sequence"
     ]
    }
   ],
   "source": [
    "max_num=0\n",
    "col=0\n",
    "row=0\n",
    "line=[2,4]\n",
    "for i in range(9):\n",
    "    line = list(map(int,input().split()))\n",
    "    if len(line)>1:\n",
    "        if max_num<max(line):\n",
    "            max_num=max(line)\n",
    "            col=i\n",
    "            row=line.index(max_num)\n",
    "print(max_num)\n",
    "print(col+1,row+1)"
   ]
  },
  {
   "cell_type": "code",
   "execution_count": 33,
   "id": "8cc1d9fa",
   "metadata": {},
   "outputs": [],
   "source": [
    "for i in range(9):\n",
    "    line=list(map(int,input().split()))"
   ]
  },
  {
   "cell_type": "code",
   "execution_count": null,
   "id": "f9d3d49c",
   "metadata": {},
   "outputs": [],
   "source": [
    "a="
   ]
  }
 ],
 "metadata": {
  "kernelspec": {
   "display_name": "Python 3 (ipykernel)",
   "language": "python",
   "name": "python3"
  },
  "language_info": {
   "codemirror_mode": {
    "name": "ipython",
    "version": 3
   },
   "file_extension": ".py",
   "mimetype": "text/x-python",
   "name": "python",
   "nbconvert_exporter": "python",
   "pygments_lexer": "ipython3",
   "version": "3.10.7"
  }
 },
 "nbformat": 4,
 "nbformat_minor": 5
}
