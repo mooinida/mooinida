{
 "cells": [
  {
   "cell_type": "code",
   "execution_count": 12,
   "id": "78ec8af5",
   "metadata": {},
   "outputs": [
    {
     "name": "stdout",
     "output_type": "stream",
     "text": [
      "99\n",
      "6\n"
     ]
    }
   ],
   "source": [
    "n=int(input())\n",
    "cnt=0\n",
    "def a(n):\n",
    "    global cnt\n",
    "    if n==1:\n",
    "        return cnt\n",
    "    elif (n-1)%3==0:\n",
    "        cnt+=2\n",
    "        return(a((n-1)//3))\n",
    "    elif n%3==0:\n",
    "        cnt+=1\n",
    "        return(a(n//3))\n",
    "    elif n%2==0:\n",
    "        cnt+=1\n",
    "        return(a(n//2)) \n",
    "    else:\n",
    "        cnt+=1\n",
    "        return(a(n-1))\n",
    "print(a(n))"
   ]
  },
  {
   "cell_type": "code",
   "execution_count": null,
   "id": "4930985f",
   "metadata": {},
   "outputs": [],
   "source": []
  }
 ],
 "metadata": {
  "kernelspec": {
   "display_name": "Python 3 (ipykernel)",
   "language": "python",
   "name": "python3"
  },
  "language_info": {
   "codemirror_mode": {
    "name": "ipython",
    "version": 3
   },
   "file_extension": ".py",
   "mimetype": "text/x-python",
   "name": "python",
   "nbconvert_exporter": "python",
   "pygments_lexer": "ipython3",
   "version": "3.10.7"
  }
 },
 "nbformat": 4,
 "nbformat_minor": 5
}
