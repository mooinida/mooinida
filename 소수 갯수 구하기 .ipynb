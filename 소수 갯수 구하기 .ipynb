{
 "cells": [
  {
   "cell_type": "code",
   "execution_count": 1,
   "id": "7ffd1a6e",
   "metadata": {},
   "outputs": [
    {
     "name": "stdout",
     "output_type": "stream",
     "text": [
      "4\n",
      "1 3 5 7\n",
      "3\n"
     ]
    }
   ],
   "source": [
    "t=int(input())\n",
    "num=map(int,input().split())\n",
    "prime=0\n",
    "for n in num:\n",
    "    i=0\n",
    "    count=0\n",
    "    while n!=i:\n",
    "        if(n%(n-i)==0):\n",
    "            count+=1\n",
    "        i+=1\n",
    "    if(count==2):\n",
    "        prime+=1\n",
    "print(prime)\n"
   ]
  },
  {
   "cell_type": "code",
   "execution_count": null,
   "id": "661a9778",
   "metadata": {},
   "outputs": [],
   "source": [
    "a,b="
   ]
  }
 ],
 "metadata": {
  "kernelspec": {
   "display_name": "Python 3 (ipykernel)",
   "language": "python",
   "name": "python3"
  },
  "language_info": {
   "codemirror_mode": {
    "name": "ipython",
    "version": 3
   },
   "file_extension": ".py",
   "mimetype": "text/x-python",
   "name": "python",
   "nbconvert_exporter": "python",
   "pygments_lexer": "ipython3",
   "version": "3.10.7"
  }
 },
 "nbformat": 4,
 "nbformat_minor": 5
}
