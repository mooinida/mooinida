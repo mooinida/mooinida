{
 "cells": [
  {
   "cell_type": "code",
   "execution_count": 33,
   "id": "8e7c3aaa",
   "metadata": {},
   "outputs": [
    {
     "name": "stdout",
     "output_type": "stream",
     "text": [
      "32 6\n",
      "27 16 30 11 6 23\n",
      "59\n"
     ]
    }
   ],
   "source": [
    "from collections import deque\n",
    "n,m=map(int,input().split())\n",
    "a=list(map(int,input().split()))\n",
    "de=deque()\n",
    "for i in range(1,n+1):\n",
    "    de.append(i)\n",
    "cnt=0\n",
    "for i in a:\n",
    "    \n",
    "    while True:\n",
    "        if de[0]==i:\n",
    "            de.popleft()\n",
    "            \n",
    "            break\n",
    "        else:\n",
    "            if de.index(i)<=len(de)//2:\n",
    "                while de[0]!=i:\n",
    "                    de.append(de.popleft())\n",
    "                    cnt+=1\n",
    "            else:\n",
    "                while de[0]!=i:\n",
    "                    de.appendleft(de.pop())\n",
    "                    cnt+=1\n",
    "print(cnt)"
   ]
  },
  {
   "cell_type": "code",
   "execution_count": null,
   "id": "18e52a38",
   "metadata": {},
   "outputs": [],
   "source": [
    "for i in a:\n",
    "    cnt=0\n",
    "    whlie True:\n",
    "        if de[0]==i:\n",
    "            print(cnt)\n",
    "            break\n",
    "        elif de.index(i)<=n//2:\n",
    "            de.append(de.popleft())\n",
    "            cnt+=1\n",
    "        elif de.index(i)>=n//2:\n",
    "            de.appendleft(de.pop())\n",
    "            cnt+=1\n",
    "    "
   ]
  },
  {
   "cell_type": "code",
   "execution_count": 16,
   "id": "6627a62b",
   "metadata": {},
   "outputs": [
    {
     "data": {
      "text/plain": [
       "0"
      ]
     },
     "execution_count": 16,
     "metadata": {},
     "output_type": "execute_result"
    }
   ],
   "source": [
    "de.index(1)"
   ]
  },
  {
   "cell_type": "code",
   "execution_count": 18,
   "id": "9f5acde9",
   "metadata": {},
   "outputs": [],
   "source": [
    "my=deque('12345')"
   ]
  },
  {
   "cell_type": "code",
   "execution_count": 19,
   "id": "0a61c56b",
   "metadata": {},
   "outputs": [
    {
     "data": {
      "text/plain": [
       "deque(['1', '2', '3', '4', '5'])"
      ]
     },
     "execution_count": 19,
     "metadata": {},
     "output_type": "execute_result"
    }
   ],
   "source": [
    "my"
   ]
  },
  {
   "cell_type": "code",
   "execution_count": 20,
   "id": "3b9ca7ce",
   "metadata": {},
   "outputs": [],
   "source": [
    "my.append(my.popleft())"
   ]
  },
  {
   "cell_type": "code",
   "execution_count": 21,
   "id": "36b5b239",
   "metadata": {},
   "outputs": [
    {
     "data": {
      "text/plain": [
       "deque(['2', '3', '4', '5', '1'])"
      ]
     },
     "execution_count": 21,
     "metadata": {},
     "output_type": "execute_result"
    }
   ],
   "source": [
    "my"
   ]
  },
  {
   "cell_type": "code",
   "execution_count": null,
   "id": "6721f916",
   "metadata": {},
   "outputs": [],
   "source": []
  }
 ],
 "metadata": {
  "kernelspec": {
   "display_name": "Python 3 (ipykernel)",
   "language": "python",
   "name": "python3"
  },
  "language_info": {
   "codemirror_mode": {
    "name": "ipython",
    "version": 3
   },
   "file_extension": ".py",
   "mimetype": "text/x-python",
   "name": "python",
   "nbconvert_exporter": "python",
   "pygments_lexer": "ipython3",
   "version": "3.10.7"
  }
 },
 "nbformat": 4,
 "nbformat_minor": 5
}
