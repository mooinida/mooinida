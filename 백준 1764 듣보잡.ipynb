{
 "cells": [
  {
   "cell_type": "code",
   "execution_count": 7,
   "id": "9b1c247f",
   "metadata": {},
   "outputs": [
    {
     "name": "stdout",
     "output_type": "stream",
     "text": [
      "3 4\n",
      "ohhenrie\n",
      "charlie\n",
      "baesangwook\n",
      "obama\n",
      "baesangwook\n",
      "baesangwook\n",
      "ohhenrie\n",
      "ohhenrie\n",
      "clinton\n",
      "2\n"
     ]
    }
   ],
   "source": [
    "n,m=map(int,input().split())\n",
    "my=[]\n",
    "dic={}\n",
    "for i in range(n):\n",
    "    my.append(input())\n",
    "my.sort()\n",
    "for i in range(n):    \n",
    "    dic[my[i]]=0\n",
    "cnt=0\n",
    "a=[]\n",
    "for i in range(m):\n",
    "    t=input()\n",
    "    if t in dic:\n",
    "        a.append(t)\n",
    "        cnt+=1\n",
    "a.sort()\n",
    "print(cnt)\n",
    "for i in range(len(a)):\n",
    "    print(a[i])"
   ]
  },
  {
   "cell_type": "code",
   "execution_count": 3,
   "id": "f4cd4e0e",
   "metadata": {},
   "outputs": [
    {
     "data": {
      "text/plain": [
       "['ohhenrie', 'charlie', 'baesangwook']"
      ]
     },
     "execution_count": 3,
     "metadata": {},
     "output_type": "execute_result"
    }
   ],
   "source": [
    "my"
   ]
  },
  {
   "cell_type": "code",
   "execution_count": 4,
   "id": "6163a26b",
   "metadata": {},
   "outputs": [],
   "source": [
    "my.sort()"
   ]
  },
  {
   "cell_type": "code",
   "execution_count": 5,
   "id": "75c7af30",
   "metadata": {},
   "outputs": [
    {
     "data": {
      "text/plain": [
       "['baesangwook', 'charlie', 'ohhenrie']"
      ]
     },
     "execution_count": 5,
     "metadata": {},
     "output_type": "execute_result"
    }
   ],
   "source": [
    "my"
   ]
  },
  {
   "cell_type": "code",
   "execution_count": null,
   "id": "9bdeb3ee",
   "metadata": {},
   "outputs": [],
   "source": []
  }
 ],
 "metadata": {
  "kernelspec": {
   "display_name": "Python 3 (ipykernel)",
   "language": "python",
   "name": "python3"
  },
  "language_info": {
   "codemirror_mode": {
    "name": "ipython",
    "version": 3
   },
   "file_extension": ".py",
   "mimetype": "text/x-python",
   "name": "python",
   "nbconvert_exporter": "python",
   "pygments_lexer": "ipython3",
   "version": "3.10.7"
  }
 },
 "nbformat": 4,
 "nbformat_minor": 5
}
