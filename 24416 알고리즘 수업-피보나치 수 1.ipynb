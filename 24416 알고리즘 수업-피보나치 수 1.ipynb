{
 "cells": [
  {
   "cell_type": "code",
   "execution_count": 47,
   "id": "648f1389",
   "metadata": {},
   "outputs": [
    {
     "name": "stdout",
     "output_type": "stream",
     "text": [
      "1\n"
     ]
    }
   ],
   "source": [
    "def fibona(n):\n",
    "    if n==1 or n==2:\n",
    "        return 1\n",
    "    else:\n",
    "        return fibona(n-1)+fibona(n-2)\n",
    "n=int(input())\n",
    "d=[0]*100\n",
    "def fib(n):\n",
    "    cnt=0\n",
    "    if n==1 or n==2:\n",
    "        return 1\n",
    "    else:\n",
    "        for i in range(3,n+1):\n",
    "            cnt+=1\n",
    "            d[n]=d[n-1]+d[n-2]\n",
    "    return cnt\n",
    "print(fibona(n),n-2)"
   ]
  },
  {
   "cell_type": "code",
   "execution_count": 45,
   "id": "9dc3d6c6",
   "metadata": {},
   "outputs": [
    {
     "name": "stdout",
     "output_type": "stream",
     "text": [
      "8\n"
     ]
    }
   ],
   "source": [
    "print(fibo(6))"
   ]
  },
  {
   "cell_type": "code",
   "execution_count": 48,
   "id": "ad4b1268",
   "metadata": {},
   "outputs": [],
   "source": [
    "def fibona(n):\n",
    "    if n==1 or n==2:\n",
    "        return 1\n",
    "    else:\n",
    "        return fibona(n-1)+fibona(n-2)"
   ]
  },
  {
   "cell_type": "code",
   "execution_count": 49,
   "id": "b9965f73",
   "metadata": {},
   "outputs": [
    {
     "data": {
      "text/plain": [
       "832040"
      ]
     },
     "execution_count": 49,
     "metadata": {},
     "output_type": "execute_result"
    }
   ],
   "source": [
    "fibona(30)"
   ]
  },
  {
   "cell_type": "code",
   "execution_count": 50,
   "id": "9852e95a",
   "metadata": {},
   "outputs": [],
   "source": [
    "def fib(n):\n",
    "    cnt=0\n",
    "    if n==1 or n==2:\n",
    "        return 1\n",
    "    else:\n",
    "        for i in range(3,n+1):\n",
    "            cnt+=1\n",
    "            d[n]=d[n-1]+d[n-2]\n",
    "    return cnt"
   ]
  },
  {
   "cell_type": "code",
   "execution_count": 51,
   "id": "b49bc460",
   "metadata": {},
   "outputs": [
    {
     "data": {
      "text/plain": [
       "28"
      ]
     },
     "execution_count": 51,
     "metadata": {},
     "output_type": "execute_result"
    }
   ],
   "source": [
    "fib(30)"
   ]
  },
  {
   "cell_type": "code",
   "execution_count": 52,
   "id": "fcb9dae9",
   "metadata": {},
   "outputs": [
    {
     "data": {
      "text/plain": [
       "38"
      ]
     },
     "execution_count": 52,
     "metadata": {},
     "output_type": "execute_result"
    }
   ],
   "source": [
    "fib(40)"
   ]
  },
  {
   "cell_type": "code",
   "execution_count": null,
   "id": "d35c8a26",
   "metadata": {},
   "outputs": [],
   "source": []
  }
 ],
 "metadata": {
  "kernelspec": {
   "display_name": "Python 3 (ipykernel)",
   "language": "python",
   "name": "python3"
  },
  "language_info": {
   "codemirror_mode": {
    "name": "ipython",
    "version": 3
   },
   "file_extension": ".py",
   "mimetype": "text/x-python",
   "name": "python",
   "nbconvert_exporter": "python",
   "pygments_lexer": "ipython3",
   "version": "3.10.7"
  }
 },
 "nbformat": 4,
 "nbformat_minor": 5
}
