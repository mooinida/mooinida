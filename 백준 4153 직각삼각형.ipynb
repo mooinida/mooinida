{
 "cells": [
  {
   "cell_type": "code",
   "execution_count": 4,
   "id": "160701c1",
   "metadata": {},
   "outputs": [
    {
     "name": "stdout",
     "output_type": "stream",
     "text": [
      "6 8 10\n",
      "right\n",
      "25 52 60\n",
      "wrong\n",
      "5 12 13\n",
      "right\n",
      "0 0 0\n"
     ]
    }
   ],
   "source": [
    "while(1):\n",
    "    a,b,c=map(int,input().split())\n",
    "    if a==0 and b==0 and c==0:\n",
    "        break\n",
    "    elif a>b and a>c:\n",
    "        if a*a==b*b+c*c:\n",
    "            print('right')\n",
    "        else:\n",
    "            print('wrong')\n",
    "    elif b>a and b>c:\n",
    "        if b*b==a*a+c*c:\n",
    "            print('right')\n",
    "        else:\n",
    "            print('wrong') \n",
    "    elif c>a and c>b:\n",
    "        if c*c==a*a+b*b:\n",
    "            print('right')\n",
    "        else:\n",
    "            print('wrong') \n",
    "    "
   ]
  },
  {
   "cell_type": "code",
   "execution_count": null,
   "id": "ff70bf82",
   "metadata": {},
   "outputs": [],
   "source": []
  }
 ],
 "metadata": {
  "kernelspec": {
   "display_name": "Python 3 (ipykernel)",
   "language": "python",
   "name": "python3"
  },
  "language_info": {
   "codemirror_mode": {
    "name": "ipython",
    "version": 3
   },
   "file_extension": ".py",
   "mimetype": "text/x-python",
   "name": "python",
   "nbconvert_exporter": "python",
   "pygments_lexer": "ipython3",
   "version": "3.10.7"
  }
 },
 "nbformat": 4,
 "nbformat_minor": 5
}
