{
 "cells": [
  {
   "cell_type": "code",
   "execution_count": null,
   "id": "204cd55e",
   "metadata": {},
   "outputs": [
    {
     "name": "stdout",
     "output_type": "stream",
     "text": [
      "15\n",
      "push_back 1\n",
      "push_front 2\n",
      "front\n",
      "2\n",
      "back\n",
      "1\n",
      "size\n",
      "2\n",
      "empty\n",
      "0\n",
      "pop_front\n",
      "2\n",
      "pop_back\n",
      "pop_front\n",
      "1\n"
     ]
    }
   ],
   "source": [
    "from collections import deque\n",
    "my=deque()\n",
    "for i in range(int(input())):\n",
    "    a=input().split()\n",
    "    if a[0]=='push_front':\n",
    "        my.appendleft(a[1])\n",
    "    elif a[0]=='push_back':\n",
    "        my.append(a[1])\n",
    "    elif a[0]=='pop_front':\n",
    "        if my:\n",
    "            print(my.popleft())\n",
    "        else:\n",
    "            print(-1)\n",
    "    elif a[0]=='pop_back':\n",
    "        if my:\n",
    "            print(my.pop())\n",
    "        else:\n",
    "            print(-1)\n",
    "    elif a[0]=='size':\n",
    "        print(len(my))\n",
    "    elif a[0]=='empty':\n",
    "        if my:\n",
    "            print(0)\n",
    "        else:\n",
    "            print(1)\n",
    "    elif a[0]=='front':\n",
    "        if my:\n",
    "            print(my[0])\n",
    "        else:\n",
    "            print(-1)\n",
    "    elif a[0]=='back':\n",
    "        if my:\n",
    "            print(my[-1])\n",
    "        else:\n",
    "            print(-1)"
   ]
  },
  {
   "cell_type": "code",
   "execution_count": null,
   "id": "04153d63",
   "metadata": {},
   "outputs": [],
   "source": []
  }
 ],
 "metadata": {
  "kernelspec": {
   "display_name": "Python 3 (ipykernel)",
   "language": "python",
   "name": "python3"
  },
  "language_info": {
   "codemirror_mode": {
    "name": "ipython",
    "version": 3
   },
   "file_extension": ".py",
   "mimetype": "text/x-python",
   "name": "python",
   "nbconvert_exporter": "python",
   "pygments_lexer": "ipython3",
   "version": "3.10.7"
  }
 },
 "nbformat": 4,
 "nbformat_minor": 5
}
