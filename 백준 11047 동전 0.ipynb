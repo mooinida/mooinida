{
 "cells": [
  {
   "cell_type": "code",
   "execution_count": 32,
   "id": "0a1e5333",
   "metadata": {},
   "outputs": [
    {
     "name": "stdout",
     "output_type": "stream",
     "text": [
      "10 4790\n",
      "1\n",
      "5\n",
      "10\n",
      "50\n",
      "100\n",
      "500\n",
      "1000\n",
      "5000\n",
      "10000\n",
      "50000\n",
      "12\n"
     ]
    }
   ],
   "source": [
    "n,k=map(int,input().split())\n",
    "my=[]\n",
    "for i in range(n):\n",
    "    my.append(int(input()))\n",
    "cnt=0\n",
    "while True:\n",
    "    if k==0:\n",
    "        print(cnt)\n",
    "        break\n",
    "    h=[]\n",
    "    for i in range(n):\n",
    "        a=k-my[i]\n",
    "        if a>=0:\n",
    "            h.append(a)\n",
    "    k=min(h)\n",
    "    cnt+=1"
   ]
  },
  {
   "cell_type": "code",
   "execution_count": 31,
   "id": "3df77203",
   "metadata": {},
   "outputs": [
    {
     "name": "stdout",
     "output_type": "stream",
     "text": [
      "6\n"
     ]
    }
   ],
   "source": [
    "cnt=0\n",
    "while True:\n",
    "    if k==0:\n",
    "        print(cnt)\n",
    "        break\n",
    "    h=[]\n",
    "    for i in range(n):\n",
    "        a=k-my[i]\n",
    "        if a>=0:\n",
    "            h.append(a)\n",
    "    k=min(h)\n",
    "    cnt+=1"
   ]
  },
  {
   "cell_type": "code",
   "execution_count": 27,
   "id": "e402cf6a",
   "metadata": {},
   "outputs": [
    {
     "data": {
      "text/plain": [
       "3200"
      ]
     },
     "execution_count": 27,
     "metadata": {},
     "output_type": "execute_result"
    }
   ],
   "source": [
    "min(h)"
   ]
  },
  {
   "cell_type": "code",
   "execution_count": 19,
   "id": "85a015df",
   "metadata": {},
   "outputs": [
    {
     "data": {
      "text/plain": [
       "[1, 5, 10, 50, 100, 500, 1000, 5000, 10000, 50000]"
      ]
     },
     "execution_count": 19,
     "metadata": {},
     "output_type": "execute_result"
    }
   ],
   "source": [
    "my"
   ]
  },
  {
   "cell_type": "code",
   "execution_count": null,
   "id": "6a671a98",
   "metadata": {},
   "outputs": [],
   "source": []
  }
 ],
 "metadata": {
  "kernelspec": {
   "display_name": "Python 3 (ipykernel)",
   "language": "python",
   "name": "python3"
  },
  "language_info": {
   "codemirror_mode": {
    "name": "ipython",
    "version": 3
   },
   "file_extension": ".py",
   "mimetype": "text/x-python",
   "name": "python",
   "nbconvert_exporter": "python",
   "pygments_lexer": "ipython3",
   "version": "3.10.7"
  }
 },
 "nbformat": 4,
 "nbformat_minor": 5
}
