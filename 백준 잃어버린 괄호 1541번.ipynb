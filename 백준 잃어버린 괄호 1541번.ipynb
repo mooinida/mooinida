{
 "cells": [
  {
   "cell_type": "code",
   "execution_count": 3,
   "id": "391aad78",
   "metadata": {},
   "outputs": [
    {
     "name": "stdout",
     "output_type": "stream",
     "text": [
      "55-50+40\n"
     ]
    }
   ],
   "source": [
    "my=list(input().split())"
   ]
  },
  {
   "cell_type": "code",
   "execution_count": 4,
   "id": "58ce7aaf",
   "metadata": {},
   "outputs": [
    {
     "data": {
      "text/plain": [
       "['55-50+40']"
      ]
     },
     "execution_count": 4,
     "metadata": {},
     "output_type": "execute_result"
    }
   ],
   "source": [
    "my"
   ]
  },
  {
   "cell_type": "code",
   "execution_count": 7,
   "id": "3eabea61",
   "metadata": {},
   "outputs": [
    {
     "name": "stdout",
     "output_type": "stream",
     "text": [
      "55-50+40\n"
     ]
    }
   ],
   "source": [
    "a=input().split('-')"
   ]
  },
  {
   "cell_type": "code",
   "execution_count": 10,
   "id": "0ab0b53e",
   "metadata": {},
   "outputs": [
    {
     "data": {
      "text/plain": [
       "['55']"
      ]
     },
     "execution_count": 10,
     "metadata": {},
     "output_type": "execute_result"
    }
   ],
   "source": [
    "a[0].split('+')"
   ]
  },
  {
   "cell_type": "code",
   "execution_count": 12,
   "id": "87b2f81e",
   "metadata": {},
   "outputs": [],
   "source": [
    "a=input().split('-')\n",
    "my=[]\n",
    "for i in a:\n",
    "    sum=0\n",
    "    tmp=i.split('+')\n",
    "    for j in tmp:\n",
    "        sum+=int(j)\n",
    "    my.append(sum)\n",
    "n=my[0]\n",
    "for i in range(1,len(my)):\n",
    "    n-=my[i]\n",
    "print(n)"
   ]
  },
  {
   "cell_type": "code",
   "execution_count": 13,
   "id": "89606b38",
   "metadata": {},
   "outputs": [
    {
     "data": {
      "text/plain": [
       "[55, 90]"
      ]
     },
     "execution_count": 13,
     "metadata": {},
     "output_type": "execute_result"
    }
   ],
   "source": [
    "my"
   ]
  },
  {
   "cell_type": "code",
   "execution_count": 14,
   "id": "90308b16",
   "metadata": {},
   "outputs": [
    {
     "name": "stdout",
     "output_type": "stream",
     "text": [
      "-35\n"
     ]
    }
   ],
   "source": [
    "n=my[0]\n",
    "for i in range(1,len(my)):\n",
    "    n-=my[i]\n",
    "print(n)"
   ]
  },
  {
   "cell_type": "code",
   "execution_count": null,
   "id": "62408e40",
   "metadata": {},
   "outputs": [],
   "source": []
  }
 ],
 "metadata": {
  "kernelspec": {
   "display_name": "Python 3 (ipykernel)",
   "language": "python",
   "name": "python3"
  },
  "language_info": {
   "codemirror_mode": {
    "name": "ipython",
    "version": 3
   },
   "file_extension": ".py",
   "mimetype": "text/x-python",
   "name": "python",
   "nbconvert_exporter": "python",
   "pygments_lexer": "ipython3",
   "version": "3.10.7"
  }
 },
 "nbformat": 4,
 "nbformat_minor": 5
}
