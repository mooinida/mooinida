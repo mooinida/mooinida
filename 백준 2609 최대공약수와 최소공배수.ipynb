{
 "cells": [
  {
   "cell_type": "code",
   "execution_count": 7,
   "id": "65a69a01",
   "metadata": {},
   "outputs": [
    {
     "name": "stdout",
     "output_type": "stream",
     "text": [
      "24 18\n",
      "6\n",
      "72\n"
     ]
    }
   ],
   "source": [
    "a,b=map(int,input().split())\n",
    "ai=set()\n",
    "bi=set()\n",
    "for i in range(1,a+1):\n",
    "    if a%i==0:\n",
    "        ai.add(i)\n",
    "for i in range(1,b+1):\n",
    "    if b%i==0:\n",
    "        bi.add(i)\n",
    "ci=list(ai&bi)\n",
    "print(max(ci))\n",
    "print(max(ci)*(a//max(ci))*(b//max(ci)))"
   ]
  },
  {
   "cell_type": "code",
   "execution_count": 2,
   "id": "60da2c8c",
   "metadata": {},
   "outputs": [
    {
     "data": {
      "text/plain": [
       "{1, 2, 3, 4, 6, 8, 12, 24}"
      ]
     },
     "execution_count": 2,
     "metadata": {},
     "output_type": "execute_result"
    }
   ],
   "source": [
    "ai"
   ]
  },
  {
   "cell_type": "code",
   "execution_count": 4,
   "id": "c0494768",
   "metadata": {},
   "outputs": [
    {
     "name": "stdout",
     "output_type": "stream",
     "text": [
      "[1, 2, 3, 6]\n"
     ]
    }
   ],
   "source": [
    "ci=list(ai&bi)\n",
    "\n",
    "print(max(ci))"
   ]
  },
  {
   "cell_type": "code",
   "execution_count": 6,
   "id": "404e962c",
   "metadata": {},
   "outputs": [
    {
     "name": "stdout",
     "output_type": "stream",
     "text": [
      "72\n"
     ]
    }
   ],
   "source": [
    "print(max(ci)*(a//max(ci))*(b//max(ci)))"
   ]
  },
  {
   "cell_type": "code",
   "execution_count": null,
   "id": "3ab8165f",
   "metadata": {},
   "outputs": [],
   "source": []
  }
 ],
 "metadata": {
  "kernelspec": {
   "display_name": "Python 3 (ipykernel)",
   "language": "python",
   "name": "python3"
  },
  "language_info": {
   "codemirror_mode": {
    "name": "ipython",
    "version": 3
   },
   "file_extension": ".py",
   "mimetype": "text/x-python",
   "name": "python",
   "nbconvert_exporter": "python",
   "pygments_lexer": "ipython3",
   "version": "3.10.7"
  }
 },
 "nbformat": 4,
 "nbformat_minor": 5
}
