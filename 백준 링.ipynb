{
 "cells": [
  {
   "cell_type": "code",
   "execution_count": 9,
   "id": "b1b939f2",
   "metadata": {},
   "outputs": [
    {
     "name": "stdout",
     "output_type": "stream",
     "text": [
      "3\n",
      "8 4 2\n",
      "2/1\n",
      "4/1\n"
     ]
    }
   ],
   "source": [
    "def maxi(a,b):\n",
    "    while b>0:\n",
    "        a,b=b,a%b\n",
    "    return a\n",
    "n=int(input())\n",
    "a=list(map(int,input().split()))\n",
    "for i in range(1,len(a)):\n",
    "    m=maxi(a[0],a[i])\n",
    "    print(a[0]//m,'/',a[i]//m,sep='')"
   ]
  },
  {
   "cell_type": "code",
   "execution_count": 1,
   "id": "27cbd4f0",
   "metadata": {},
   "outputs": [
    {
     "data": {
      "text/plain": [
       "4"
      ]
     },
     "execution_count": 1,
     "metadata": {},
     "output_type": "execute_result"
    }
   ],
   "source": [
    "def "
   ]
  },
  {
   "cell_type": "code",
   "execution_count": 3,
   "id": "f6af5326",
   "metadata": {},
   "outputs": [
    {
     "data": {
      "text/plain": [
       "1.5"
      ]
     },
     "execution_count": 3,
     "metadata": {},
     "output_type": "execute_result"
    }
   ],
   "source": [
    "12/8"
   ]
  },
  {
   "cell_type": "code",
   "execution_count": null,
   "id": "5e84c085",
   "metadata": {},
   "outputs": [],
   "source": []
  }
 ],
 "metadata": {
  "kernelspec": {
   "display_name": "Python 3 (ipykernel)",
   "language": "python",
   "name": "python3"
  },
  "language_info": {
   "codemirror_mode": {
    "name": "ipython",
    "version": 3
   },
   "file_extension": ".py",
   "mimetype": "text/x-python",
   "name": "python",
   "nbconvert_exporter": "python",
   "pygments_lexer": "ipython3",
   "version": "3.10.7"
  }
 },
 "nbformat": 4,
 "nbformat_minor": 5
}
