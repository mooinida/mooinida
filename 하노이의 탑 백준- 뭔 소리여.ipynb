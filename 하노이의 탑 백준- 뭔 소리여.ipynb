{
 "cells": [
  {
   "cell_type": "code",
   "execution_count": null,
   "id": "d7a105bd",
   "metadata": {},
   "outputs": [],
   "source": [
    "def tower(n,start,end):\n",
    "    if n==1:\n",
    "        print(start,end)\n",
    "        return\n",
    "    tower(n-1,start,6-start-end)\n",
    "    print(start,end)\n",
    "    tower(n-1,6-start-end,end)"
   ]
  }
 ],
 "metadata": {
  "kernelspec": {
   "display_name": "Python 3 (ipykernel)",
   "language": "python",
   "name": "python3"
  },
  "language_info": {
   "codemirror_mode": {
    "name": "ipython",
    "version": 3
   },
   "file_extension": ".py",
   "mimetype": "text/x-python",
   "name": "python",
   "nbconvert_exporter": "python",
   "pygments_lexer": "ipython3",
   "version": "3.10.7"
  }
 },
 "nbformat": 4,
 "nbformat_minor": 5
}
