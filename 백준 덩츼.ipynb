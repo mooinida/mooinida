{
 "cells": [
  {
   "cell_type": "code",
   "execution_count": 18,
   "id": "9e7cb95e",
   "metadata": {},
   "outputs": [
    {
     "name": "stdout",
     "output_type": "stream",
     "text": [
      "5\n",
      "55 185\n",
      "58 183\n",
      "88 186\n",
      "60 175\n",
      "46 155\n",
      "2 2 1 2 5 "
     ]
    }
   ],
   "source": [
    "n=int(input())\n",
    "student=[]\n",
    "for i in range(n):\n",
    "    w,h=map(int,input().split())\n",
    "    student.append((w,h))\n",
    "for i in student:\n",
    "    rank=1\n",
    "    for j in student:\n",
    "        if(i[0]<j[0] and i[1]<j[1]):\n",
    "            rank+=1\n",
    "    print(rank,end=' ')"
   ]
  },
  {
   "cell_type": "code",
   "execution_count": null,
   "id": "49065f37",
   "metadata": {},
   "outputs": [],
   "source": []
  }
 ],
 "metadata": {
  "kernelspec": {
   "display_name": "Python 3 (ipykernel)",
   "language": "python",
   "name": "python3"
  },
  "language_info": {
   "codemirror_mode": {
    "name": "ipython",
    "version": 3
   },
   "file_extension": ".py",
   "mimetype": "text/x-python",
   "name": "python",
   "nbconvert_exporter": "python",
   "pygments_lexer": "ipython3",
   "version": "3.10.7"
  }
 },
 "nbformat": 4,
 "nbformat_minor": 5
}
