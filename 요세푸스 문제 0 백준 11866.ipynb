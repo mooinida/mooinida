{
 "cells": [
  {
   "cell_type": "code",
   "execution_count": 116,
   "id": "8940ad40",
   "metadata": {},
   "outputs": [
    {
     "name": "stdout",
     "output_type": "stream",
     "text": [
      "7 3\n",
      "<3, 6, 2, 7, 5, 1, 4>\n"
     ]
    }
   ],
   "source": [
    "from collections import deque\n",
    "n,k=map(int,input().split())\n",
    "a=deque()\n",
    "for i in range(1,n+1):\n",
    "    a.append(i)\n",
    "my=[]\n",
    "while len(a)!=0:\n",
    "    a.rotate(-(k-1))\n",
    "    my.append(a[0])\n",
    "    del a[0]\n",
    "print(\"<\",end='')\n",
    "for i in range(len(my)-1):\n",
    "    print(my[i],end=', ')\n",
    "print(f'{my[-1]}>')"
   ]
  },
  {
   "cell_type": "code",
   "execution_count": 115,
   "id": "97765982",
   "metadata": {},
   "outputs": [
    {
     "name": "stdout",
     "output_type": "stream",
     "text": [
      "<3, 6, 2, 7, 5, 1, 4>\n"
     ]
    }
   ],
   "source": [
    "print(\"<\",end='')\n",
    "for i in range(len(my)-1):\n",
    "    print(my[i],end=', ')\n",
    "print(f'{my[-1]}>')\n"
   ]
  },
  {
   "cell_type": "code",
   "execution_count": 103,
   "id": "a189a357",
   "metadata": {},
   "outputs": [
    {
     "name": "stdout",
     "output_type": "stream",
     "text": [
      "deque([4])\n",
      "deque([])\n"
     ]
    }
   ],
   "source": [
    "print(a)\n",
    "a.rotate(-2)\n",
    "my.append(a[0])\n",
    "del a[0]\n",
    "print(a)"
   ]
  },
  {
   "cell_type": "code",
   "execution_count": 104,
   "id": "194a589c",
   "metadata": {},
   "outputs": [
    {
     "data": {
      "text/plain": [
       "[3, 6, 2, 7, 5, 1, 4]"
      ]
     },
     "execution_count": 104,
     "metadata": {},
     "output_type": "execute_result"
    }
   ],
   "source": [
    "my"
   ]
  },
  {
   "cell_type": "code",
   "execution_count": 62,
   "id": "610e3045",
   "metadata": {},
   "outputs": [
    {
     "data": {
      "text/plain": [
       "[3]"
      ]
     },
     "execution_count": 62,
     "metadata": {},
     "output_type": "execute_result"
    }
   ],
   "source": [
    "my"
   ]
  },
  {
   "cell_type": "code",
   "execution_count": 20,
   "id": "0f53e4db",
   "metadata": {},
   "outputs": [
    {
     "name": "stdout",
     "output_type": "stream",
     "text": [
      "[None, None, None, None, None]\n"
     ]
    }
   ],
   "source": [
    "print(my)"
   ]
  },
  {
   "cell_type": "code",
   "execution_count": null,
   "id": "66fc5387",
   "metadata": {},
   "outputs": [],
   "source": []
  }
 ],
 "metadata": {
  "kernelspec": {
   "display_name": "Python 3 (ipykernel)",
   "language": "python",
   "name": "python3"
  },
  "language_info": {
   "codemirror_mode": {
    "name": "ipython",
    "version": 3
   },
   "file_extension": ".py",
   "mimetype": "text/x-python",
   "name": "python",
   "nbconvert_exporter": "python",
   "pygments_lexer": "ipython3",
   "version": "3.10.7"
  }
 },
 "nbformat": 4,
 "nbformat_minor": 5
}
