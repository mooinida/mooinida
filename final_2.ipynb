{
 "cells": [
  {
   "cell_type": "markdown",
   "id": "7f6424bd",
   "metadata": {},
   "source": [
    "# 오픈소스프로그래밍 기말고사(2반)"
   ]
  },
  {
   "cell_type": "markdown",
   "id": "e6614ae5",
   "metadata": {},
   "source": [
    "## 학과:글로벌비즈니스어학부  학번:2019108034             이름: 손민성"
   ]
  },
  {
   "cell_type": "markdown",
   "id": "423b7d67",
   "metadata": {},
   "source": [
    "### [문제 1] heros2.txt 파일을 읽어서 딕셔너리를 만들고 다음과 같은 결과가 나오도록 프로그램을 작성하시오.\n",
    "```\n",
    "홍길동의 능력치: 2000\n",
    "이순신의 능력치: 5000\n",
    "유관순의 능력치: 3000\n",
    "전우치의 능력치: 2000\n",
    "강감찬의 능력치: 4000\n",
    "을지문덕의 능력치: 4000\n",
    "최영의 능력치: 3000\n",
    "김유신의 능력치: 4000\n",
    "```"
   ]
  },
  {
   "cell_type": "code",
   "execution_count": 2,
   "id": "65a8e1a3",
   "metadata": {},
   "outputs": [
    {
     "name": "stdout",
     "output_type": "stream",
     "text": [
      "홍길동의 능력치: 2000\n",
      "이순신의 능력치: 5000\n",
      "유관순의 능력치: 3000\n",
      "전우치의 능력치: 2000\n",
      "강감찬의 능력치: 4000\n",
      "을지문덕의 능력치: 4000\n",
      "최영의 능력치: 3000\n",
      "김유신의 능력치: 4000\n"
     ]
    }
   ],
   "source": [
    "with open('heros2.txt','r') as f:\n",
    "    a=f.read()\n",
    "list(a)\n",
    "d={}\n",
    "d[a[0:3]]=(a[4:8])\n",
    "d[a[9:12]]=(a[13:17])\n",
    "d[a[18:21]]=(a[22:26])\n",
    "d[a[27:30]]=(a[31:35])\n",
    "d[a[36:39]]=(a[40:44])\n",
    "d[a[45:49]]=(a[50:54])\n",
    "d[a[55:57]]=(a[58:62])\n",
    "d[a[63:66]]=(a[67:71])\n",
    "for k,v in d.items():\n",
    "    print(k,end='')\n",
    "    print('의 능력치: ',end='')\n",
    "    print(v)\n",
    "\n"
   ]
  },
  {
   "cell_type": "markdown",
   "id": "3469ea4c",
   "metadata": {},
   "source": [
    "### [문제 2] random 모듈을 이용하여 10개의 무작위 영문 소문자의 ascii값 리스트를 만든 다음, 람다 표현식을 이용하여 ascii값이 짝수이면 대문자, 홀수이면 소문자로 만들어 리스트를 만드시오. \n",
    "여기서, ord(x)는 문자의 ascii값을 리턴하는 함수, chr(x)는 ascii값에 해당하는 문자를 리턴하는 함수\n",
    "\n",
    "```\n",
    "실행결과 예시 1: ['E', 'x', 'h', 'n', 'z', 'x', 'K', 'G', 'K', 'M']\n",
    "실행결과 예시 2: ['l', 'b', 'f', 'b', 'C', 'z', 'G', 'M', 'S', 'l']\n",
    "\n",
    "```"
   ]
  },
  {
   "cell_type": "code",
   "execution_count": 4,
   "id": "b2f2b350",
   "metadata": {},
   "outputs": [
    {
     "ename": "SyntaxError",
     "evalue": "expected 'else' after 'if' expression (2169077078.py, line 2)",
     "output_type": "error",
     "traceback": [
      "\u001b[1;36m  Input \u001b[1;32mIn [4]\u001b[1;36m\u001b[0m\n\u001b[1;33m    asciii=list(lambda x:x if ord(x)%2==0 print(isupper(x)) else print(islower(x),a))\u001b[0m\n\u001b[1;37m                         ^\u001b[0m\n\u001b[1;31mSyntaxError\u001b[0m\u001b[1;31m:\u001b[0m expected 'else' after 'if' expression\n"
     ]
    }
   ],
   "source": [
    "a=['l','b','f','b','c','z','g','m','s','i']\n",
    "asciii=list(lambda x:x if ord(x)%2==0 print(isupper(x)) else print(islower(x),a))"
   ]
  },
  {
   "cell_type": "markdown",
   "id": "e68d1cd0",
   "metadata": {},
   "source": [
    "### [문제 3] 2차원 평면 상의 점 좌표를 나타내는 클래스를 다음과 같이 정의한다. 직사각형을 정의하는 Rectangle 클래스를 다음과 같이 실행되도록 구현하시오. \n",
    "여기서, area()는 사각형의 면적을 구하는 메소드\n",
    "```python\n",
    "class Point2D:\n",
    "    def __init__(self, x, y):\n",
    "        self.x = x\n",
    "        self.y = y\n",
    "        \n",
    "p1 = Point2D(10, 20)\n",
    "p2 = Point2D(25, 40)\n",
    "rect1 = Rectangle(p1, p2)\n",
    "rect1.area()\n",
    ">>> 300\n",
    "\n",
    "rect2 = Rectangle.create(10, 20, 25, 40)\n",
    "rect2.area()\n",
    ">>> 300\n",
    "\n",
    "p1 = Point2D(30, 15)\n",
    "p2 = Point2D(10, 50)\n",
    "rect1 = Rectangle(p1, p2)\n",
    "rect1.area()\n",
    ">>> 700\n",
    "\n",
    "rect2 = Rectangle.create(30, 15, 10, 50)\n",
    "rect2.area()\n",
    ">>> 700\n",
    "```"
   ]
  },
  {
   "cell_type": "code",
   "execution_count": null,
   "id": "803e0eb9",
   "metadata": {},
   "outputs": [],
   "source": [
    "class Point2D:\n",
    "    def __init__(self, x, y):\n",
    "        self.x = x\n",
    "        self.y = y\n",
    "        \n",
    "class Rectangle:\n",
    "    def __init__(self,a,b,c,d):\n",
    "        if a>c and b>d:\n",
    "            self.garo=a-c\n",
    "            self.sero=b-d\n",
    "        elif c>a and b>d:\n",
    "            self.garo=c-a\n",
    "            self.sero=b-d\n",
    "        elif c>a and d>b:\n",
    "            self.garo=c-a\n",
    "            self.sero=d-b\n",
    "        elif a>c and d>b:\n",
    "            self.garo=a-c\n",
    "            self.sero=d-b\n",
    "    def area(self):\n",
    "        self.width=self.garo*self.sero\n",
    "        return self.width\n",
    "\n",
    "    "
   ]
  },
  {
   "cell_type": "markdown",
   "id": "7c6d0f5c",
   "metadata": {},
   "source": [
    "### 프로그램 테스트"
   ]
  },
  {
   "cell_type": "code",
   "execution_count": null,
   "id": "ddcbc84d",
   "metadata": {},
   "outputs": [],
   "source": [
    "### 프로그램 테스트p1 = Point2D(10, 20)\n",
    "p1 = Point2D(10, 20)\n",
    "p2 = Point2D(25, 40)\n",
    "rect1 = Rectangle(p1, p2)\n",
    "rect1.area()"
   ]
  },
  {
   "cell_type": "code",
   "execution_count": null,
   "id": "42f4c5c2",
   "metadata": {},
   "outputs": [],
   "source": [
    "rect2 = Rectangle.create(10, 20, 25, 40)\n",
    "rect2.area()"
   ]
  },
  {
   "cell_type": "code",
   "execution_count": null,
   "id": "f0fc4761",
   "metadata": {},
   "outputs": [],
   "source": [
    "p1 = Point2D(30, 15)\n",
    "p2 = Point2D(10, 50)\n",
    "rect1 = Rectangle(p1, p2)\n",
    "rect1.area()"
   ]
  },
  {
   "cell_type": "code",
   "execution_count": null,
   "id": "7d5c25a5",
   "metadata": {},
   "outputs": [],
   "source": [
    "rect2 = Rectangle.create(30, 15, 10, 50)\n",
    "rect2.area()"
   ]
  },
  {
   "cell_type": "markdown",
   "id": "bfa9afef",
   "metadata": {},
   "source": [
    "### [문제 4]  유명 연예인 목록을 저장하는 Celebrity 클래스를 만드시오. \n",
    "1. read_file() 메서드를 만들어서 주어진 파일(celebs.txt)로부터 사람의 정보를 읽어서 저장하시오.\n",
    "2. 전체 목록을 출력하는 메서드 view_all()을 만드시오.\n",
    "3. 이름을 입력하여 연예인의 정보를 출력하는 메서드 view_info()를 만드시오.\n",
    "4. 가장 나이가 많은 사람을 찾아서 정보를 출력하는 메서드 view_oldest()를 만드시오.\n",
    "5. 새로운 사람을 추가하는 메서드 append_celeb()을 만드시오.\n",
    "\n",
    "```python\n",
    "celebs = Celebrity()\n",
    "celebs.read_file('celebs.txt')\n",
    "\n",
    "celebs.view_all()\n",
    ">>> {'이름': '강호동', '나이': 52, '성별': '남'}\n",
    "    {'이름': '유재석', '나이': 50, '성별': '남'}\n",
    "    {'이름': '박나래', '나이': 37, '성별': '여'}\n",
    "    {'이름': '지석진', '나이': 56, '성별': '남'}\n",
    "    {'이름': '이지은', '나이': 29, '성별': '여'}\n",
    "    \n",
    "celebs.view_info('박나래')\n",
    ">>> 이름: 박나래\n",
    "    나이: 37\n",
    "    성별: 여\n",
    "        \n",
    "celebs.view_oldest()\n",
    ">>> 이름: 지석진\n",
    "    나이: 56\n",
    "    성별: 남\n",
    "\n",
    "celebs.append_celeb('박명수', 성별='남')\n",
    "celebs.view_info('박명수')\n",
    ">>> 이름: 박명수\n",
    "    나이: 0\n",
    "    성별: 남\n",
    "\n",
    "celebs.append_celeb('김연아', 나이=32)\n",
    "celebs.view_info('김연아')\n",
    ">>> 이름: 김연아\n",
    "    나이: 32\n",
    "    성별: x\n",
    "        \n",
    "celebs.append_celeb('김고은', 나이=31, 성별='여')   # 정상\n",
    "celebs.append_celeb('김석진', 성별='남', 나이=30)   # 정상\n",
    "        \n",
    "celebs.append_celeb('김석진', 성별='남', 연세=30)   # 오류\n",
    ">>> ERROR: 잘못된 키(key)입니다:연세\n",
    "```\n"
   ]
  },
  {
   "cell_type": "code",
   "execution_count": null,
   "id": "2f6f5ea3",
   "metadata": {},
   "outputs": [],
   "source": [
    "class Celebrity:\n",
    "    def read_file(self,file):\n",
    "        f=open('self.file.txt','r')\n",
    "        a=f.read()\n",
    "        f.close()\n",
    "    def view_all(self):\n",
    "        f=open('self.file.txt',r)\n",
    "        b=f.read()\n",
    "        print(b)\n",
    "    def view_info(name):\n",
    "        print(self.name)\n",
    "        print(age)\n",
    "        print(character)\n",
    "    def view_oldest(age):\n",
    "        if age==max(age):\n",
    "            print(self.name)\n",
    "        print(age)\n",
    "        print(character)\n",
    "    def append_celeb(self):\n",
    "        c=[]\n",
    "        c.append(i)"
   ]
  },
  {
   "cell_type": "markdown",
   "id": "42b48a8b",
   "metadata": {},
   "source": [
    "### 프로그램 테스트"
   ]
  },
  {
   "cell_type": "code",
   "execution_count": null,
   "id": "76324dd1",
   "metadata": {},
   "outputs": [],
   "source": [
    "celebs = Celebrity()\n",
    "celebs.read_file('celebs.txt')\n",
    "\n",
    "celebs.view_all()"
   ]
  },
  {
   "cell_type": "code",
   "execution_count": null,
   "id": "9e0871c5",
   "metadata": {},
   "outputs": [],
   "source": [
    "celebs.view_info('박나래')"
   ]
  },
  {
   "cell_type": "code",
   "execution_count": null,
   "id": "3bca1fd7",
   "metadata": {},
   "outputs": [],
   "source": [
    "celebs.view_oldest()"
   ]
  },
  {
   "cell_type": "code",
   "execution_count": null,
   "id": "7fe65927",
   "metadata": {},
   "outputs": [],
   "source": [
    "celebs.append_celeb('박명수', 성별='남')\n",
    "celebs.view_info('박명수')"
   ]
  },
  {
   "cell_type": "code",
   "execution_count": null,
   "id": "9006e36b",
   "metadata": {},
   "outputs": [],
   "source": [
    "celebs.append_celeb('김연아', 나이=32)\n",
    "celebs.view_info('김연아')"
   ]
  },
  {
   "cell_type": "code",
   "execution_count": null,
   "id": "2d47789b",
   "metadata": {},
   "outputs": [],
   "source": [
    "celebs.append_celeb('김고은', 나이=31, 성별='여')   # 정상\n",
    "celebs.append_celeb('김석진', 성별='남', 나이=30)   # 정상"
   ]
  },
  {
   "cell_type": "code",
   "execution_count": null,
   "id": "970ae756",
   "metadata": {},
   "outputs": [],
   "source": [
    "celebs.append_celeb('김석진', 성별='남', 연세=30)   # 오류"
   ]
  },
  {
   "cell_type": "code",
   "execution_count": null,
   "id": "05c974a6",
   "metadata": {},
   "outputs": [],
   "source": []
  }
 ],
 "metadata": {
  "kernelspec": {
   "display_name": "Python 3 (ipykernel)",
   "language": "python",
   "name": "python3"
  },
  "language_info": {
   "codemirror_mode": {
    "name": "ipython",
    "version": 3
   },
   "file_extension": ".py",
   "mimetype": "text/x-python",
   "name": "python",
   "nbconvert_exporter": "python",
   "pygments_lexer": "ipython3",
   "version": "3.10.6"
  }
 },
 "nbformat": 4,
 "nbformat_minor": 5
}
