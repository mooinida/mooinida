{
 "cells": [
  {
   "cell_type": "code",
   "execution_count": 25,
   "id": "8efdda80",
   "metadata": {},
   "outputs": [
    {
     "name": "stdout",
     "output_type": "stream",
     "text": [
      "10\n",
      "6 3 2 10 10 10 -10 -10 7 3\n",
      "8\n",
      "10 9 -5 2 3 4 5 -10\n",
      "3 0 0 1 2 0 0 2 "
     ]
    }
   ],
   "source": [
    "n=int(input())\n",
    "all=list(map(int,input().split()))\n",
    "m=int(input())\n",
    "dic=list(map(int,input().split()))\n",
    "dict={}\n",
    "for i in range(m):\n",
    "    dict[dic[i]]=0\n",
    "for i in range(n):\n",
    "    if all[i] in dict:\n",
    "        dict[all[i]]+=1\n",
    "for i in range(m):\n",
    "    print(dict[dic[i]],end=' ')"
   ]
  },
  {
   "cell_type": "code",
   "execution_count": 23,
   "id": "14d7ec88",
   "metadata": {},
   "outputs": [
    {
     "data": {
      "text/plain": [
       "dict"
      ]
     },
     "execution_count": 23,
     "metadata": {},
     "output_type": "execute_result"
    }
   ],
   "source": [
    "dict"
   ]
  },
  {
   "cell_type": "code",
   "execution_count": 15,
   "id": "a06c9ec7",
   "metadata": {},
   "outputs": [
    {
     "data": {
      "text/plain": [
       "[10, 9, -5, 2, 3, 4, 5, -10]"
      ]
     },
     "execution_count": 15,
     "metadata": {},
     "output_type": "execute_result"
    }
   ],
   "source": [
    "my"
   ]
  },
  {
   "cell_type": "code",
   "execution_count": 21,
   "id": "63b9b356",
   "metadata": {},
   "outputs": [],
   "source": [
    "how={}\n",
    "for i in range(b):\n",
    "    how[my[i]]=0"
   ]
  },
  {
   "cell_type": "code",
   "execution_count": 22,
   "id": "9e335a41",
   "metadata": {},
   "outputs": [
    {
     "data": {
      "text/plain": [
       "{10: 0, 9: 0, -5: 0, 2: 0, 3: 0, 4: 0, 5: 0, -10: 0}"
      ]
     },
     "execution_count": 22,
     "metadata": {},
     "output_type": "execute_result"
    }
   ],
   "source": [
    "how"
   ]
  },
  {
   "cell_type": "code",
   "execution_count": 18,
   "id": "90c9974e",
   "metadata": {},
   "outputs": [
    {
     "data": {
      "text/plain": [
       "[3, 0, 0, 1, 2, 0, 0, 2]"
      ]
     },
     "execution_count": 18,
     "metadata": {},
     "output_type": "execute_result"
    }
   ],
   "source": [
    "how"
   ]
  },
  {
   "cell_type": "code",
   "execution_count": 19,
   "id": "9529a5b9",
   "metadata": {},
   "outputs": [
    {
     "name": "stdout",
     "output_type": "stream",
     "text": [
      "3 0 0 1 2 0 0 2 "
     ]
    }
   ],
   "source": [
    "for i in range(b):\n",
    "    print(how[i],end=' ')"
   ]
  },
  {
   "cell_type": "code",
   "execution_count": null,
   "id": "97f4a09f",
   "metadata": {},
   "outputs": [],
   "source": []
  }
 ],
 "metadata": {
  "kernelspec": {
   "display_name": "Python 3 (ipykernel)",
   "language": "python",
   "name": "python3"
  },
  "language_info": {
   "codemirror_mode": {
    "name": "ipython",
    "version": 3
   },
   "file_extension": ".py",
   "mimetype": "text/x-python",
   "name": "python",
   "nbconvert_exporter": "python",
   "pygments_lexer": "ipython3",
   "version": "3.10.7"
  }
 },
 "nbformat": 4,
 "nbformat_minor": 5
}
