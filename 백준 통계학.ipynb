{
 "cells": [
  {
   "cell_type": "code",
   "execution_count": 3,
   "id": "f1814e71",
   "metadata": {},
   "outputs": [
    {
     "name": "stdout",
     "output_type": "stream",
     "text": [
      "5\n",
      "1\n",
      "3\n",
      "8\n",
      "-2\n",
      "2\n"
     ]
    }
   ],
   "source": [
    "from collections import Counter\n",
    "n=int(input())\n",
    "num=[]\n",
    "for i in range(n):\n",
    "    num.append(int(input()))\n",
    "avg=sum(num)/len(num)\n",
    "print(round(avg))\n",
    "num.sort()\n",
    "cnt=Counter(num).most_common(2)\n",
    "print(num[n//2])\n",
    "print(max(num)-min(num))\n",
    "print(cnt)"
   ]
  },
  {
   "cell_type": "code",
   "execution_count": 4,
   "id": "10653776",
   "metadata": {},
   "outputs": [
    {
     "name": "stdout",
     "output_type": "stream",
     "text": [
      "5\n",
      "1\n",
      "3\n",
      "8\n",
      "2\n",
      "-2\n",
      "2\n",
      "2\n",
      "10\n",
      "1\n"
     ]
    }
   ],
   "source": [
    "from collections import Counter\n",
    "n=int(input())\n",
    "num=[]\n",
    "for i in range(n):\n",
    "    num.append(int(input()))\n",
    "avg=sum(num)/len(num)\n",
    "print(round(avg))\n",
    "num.sort()\n",
    "cnt=Counter(num).most_common(2)\n",
    "print(num[n//2])\n",
    "print(max(num)-min(num))\n",
    "if len(num)>1:\n",
    "    if cnt[0][1]==cnt[1][1]:\n",
    "        print(cnt[1][0])\n",
    "    else:\n",
    "        print(cnt[0][0])\n",
    "else:\n",
    "    print(cnt[0][0])"
   ]
  },
  {
   "cell_type": "code",
   "execution_count": 6,
   "id": "7c211199",
   "metadata": {},
   "outputs": [],
   "source": [
    "avg=sum(num)/len(num)"
   ]
  },
  {
   "cell_type": "code",
   "execution_count": 7,
   "id": "dd8015e4",
   "metadata": {},
   "outputs": [
    {
     "name": "stdout",
     "output_type": "stream",
     "text": [
      "2.4\n"
     ]
    }
   ],
   "source": [
    "print(avg)"
   ]
  },
  {
   "cell_type": "code",
   "execution_count": 8,
   "id": "b15504b1",
   "metadata": {},
   "outputs": [
    {
     "data": {
      "text/plain": [
       "2"
      ]
     },
     "execution_count": 8,
     "metadata": {},
     "output_type": "execute_result"
    }
   ],
   "source": [
    "round(avg)"
   ]
  },
  {
   "cell_type": "code",
   "execution_count": 13,
   "id": "05e65386",
   "metadata": {},
   "outputs": [
    {
     "name": "stdout",
     "output_type": "stream",
     "text": [
      "2\n"
     ]
    }
   ],
   "source": [
    "num.sort()\n",
    "print(num[n//2])"
   ]
  },
  {
   "cell_type": "code",
   "execution_count": 14,
   "id": "a1c0d998",
   "metadata": {},
   "outputs": [
    {
     "data": {
      "text/plain": [
       "8"
      ]
     },
     "execution_count": 14,
     "metadata": {},
     "output_type": "execute_result"
    }
   ],
   "source": [
    "max(num)"
   ]
  },
  {
   "cell_type": "code",
   "execution_count": 15,
   "id": "9e4eef3a",
   "metadata": {},
   "outputs": [
    {
     "data": {
      "text/plain": [
       "-2"
      ]
     },
     "execution_count": 15,
     "metadata": {},
     "output_type": "execute_result"
    }
   ],
   "source": [
    "min(num)"
   ]
  },
  {
   "cell_type": "code",
   "execution_count": 16,
   "id": "872dc078",
   "metadata": {},
   "outputs": [
    {
     "data": {
      "text/plain": [
       "2"
      ]
     },
     "execution_count": 16,
     "metadata": {},
     "output_type": "execute_result"
    }
   ],
   "source": [
    "num.index(2)"
   ]
  },
  {
   "cell_type": "code",
   "execution_count": 17,
   "id": "bf1b683f",
   "metadata": {},
   "outputs": [
    {
     "data": {
      "text/plain": [
       "4"
      ]
     },
     "execution_count": 17,
     "metadata": {},
     "output_type": "execute_result"
    }
   ],
   "source": [
    "num.index(8)"
   ]
  },
  {
   "cell_type": "code",
   "execution_count": 9,
   "id": "bdf3cb96",
   "metadata": {},
   "outputs": [],
   "source": [
    "from collections import Counter\n",
    "n=[1,2,3,4,5,6,7,1,1,1,1,2,2,3,3,4,5,6]\n",
    "a=Counter(n).most_common(1)\n",
    "b=Counter(n).m"
   ]
  },
  {
   "cell_type": "code",
   "execution_count": 11,
   "id": "a9b24cff",
   "metadata": {},
   "outputs": [
    {
     "data": {
      "text/plain": [
       "[(1, 5)]"
      ]
     },
     "execution_count": 11,
     "metadata": {},
     "output_type": "execute_result"
    }
   ],
   "source": [
    "a"
   ]
  },
  {
   "cell_type": "code",
   "execution_count": null,
   "id": "04ab44d0",
   "metadata": {},
   "outputs": [],
   "source": []
  }
 ],
 "metadata": {
  "kernelspec": {
   "display_name": "Python 3 (ipykernel)",
   "language": "python",
   "name": "python3"
  },
  "language_info": {
   "codemirror_mode": {
    "name": "ipython",
    "version": 3
   },
   "file_extension": ".py",
   "mimetype": "text/x-python",
   "name": "python",
   "nbconvert_exporter": "python",
   "pygments_lexer": "ipython3",
   "version": "3.10.7"
  }
 },
 "nbformat": 4,
 "nbformat_minor": 5
}
