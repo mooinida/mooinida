{
 "cells": [
  {
   "cell_type": "code",
   "execution_count": null,
   "id": "498cfbb3",
   "metadata": {},
   "outputs": [
    {
     "name": "stdout",
     "output_type": "stream",
     "text": [
      "3\n",
      "2\n",
      "3\n",
      "10\n",
      "1\n",
      "4\n",
      "10\n"
     ]
    }
   ],
   "source": [
    "test=int(input())\n",
    "for i in range(test):\n",
    "    floor=int(input())\n",
    "    num=int(input())\n",
    "    f0=[x for x in range(1,num+1)]\n",
    "    for i in range(floor):\n",
    "        for j in range(1,num):\n",
    "            f0[j]+=f0[j-1]\n",
    "    print(f0[num-1])"
   ]
  },
  {
   "cell_type": "code",
   "execution_count": null,
   "id": "65eb82a0",
   "metadata": {},
   "outputs": [],
   "source": []
  }
 ],
 "metadata": {
  "kernelspec": {
   "display_name": "Python 3 (ipykernel)",
   "language": "python",
   "name": "python3"
  },
  "language_info": {
   "codemirror_mode": {
    "name": "ipython",
    "version": 3
   },
   "file_extension": ".py",
   "mimetype": "text/x-python",
   "name": "python",
   "nbconvert_exporter": "python",
   "pygments_lexer": "ipython3",
   "version": "3.10.7"
  }
 },
 "nbformat": 4,
 "nbformat_minor": 5
}
