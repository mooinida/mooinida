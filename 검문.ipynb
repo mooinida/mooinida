{
 "cells": [
  {
   "cell_type": "code",
   "execution_count": 53,
   "id": "8f1443e3",
   "metadata": {},
   "outputs": [
    {
     "name": "stdout",
     "output_type": "stream",
     "text": [
      "5\n",
      "5\n",
      "17\n",
      "23\n",
      "14\n",
      "83\n",
      "3 "
     ]
    }
   ],
   "source": [
    "n=int(input())\n",
    "b=[]\n",
    "for i in range(n):\n",
    "    a=int(input())\n",
    "    b.append(a)\n",
    "my=[]\n",
    "for i in range(2,min(b)+1):\n",
    "    m=set()\n",
    "    y=[]\n",
    "    for j in range(0,len(b)):\n",
    "        k=b[j]%i\n",
    "        m.add(k)\n",
    "        y.append(i)\n",
    "    if(len(m)==1):\n",
    "        my.append(y[0])\n",
    "for i in my:\n",
    "    print(i,end=' ')"
   ]
  },
  {
   "cell_type": "code",
   "execution_count": 2,
   "id": "6267ac18",
   "metadata": {},
   "outputs": [
    {
     "data": {
      "text/plain": [
       "6"
      ]
     },
     "execution_count": 2,
     "metadata": {},
     "output_type": "execute_result"
    }
   ],
   "source": [
    "M=set()\n",
    "for i in range(len(b)):\n",
    "    for j in range(1,min(b)+1):\n",
    "        j"
   ]
  },
  {
   "cell_type": "code",
   "execution_count": 5,
   "id": "5228a12d",
   "metadata": {},
   "outputs": [
    {
     "data": {
      "text/plain": [
       "[6, 34, 38]"
      ]
     },
     "execution_count": 5,
     "metadata": {},
     "output_type": "execute_result"
    }
   ],
   "source": [
    "b"
   ]
  },
  {
   "cell_type": "code",
   "execution_count": 34,
   "id": "ee935cc8",
   "metadata": {},
   "outputs": [
    {
     "name": "stdout",
     "output_type": "stream",
     "text": [
      "0\n",
      "0\n",
      "1\n",
      "2\n",
      "2\n",
      "2\n",
      "4\n",
      "3\n",
      "4\n",
      "2\n"
     ]
    }
   ],
   "source": [
    "all=[]\n",
    "for i in range(2,min(b)+1):\n",
    "    \n",
    "    M=set()\n",
    "    for j in range(1,len(b)):\n",
    "        k=b[j]%i\n",
    "        print(k)"
   ]
  },
  {
   "cell_type": "code",
   "execution_count": 35,
   "id": "4bad5984",
   "metadata": {},
   "outputs": [
    {
     "data": {
      "text/plain": [
       "[6, 34, 38]"
      ]
     },
     "execution_count": 35,
     "metadata": {},
     "output_type": "execute_result"
    }
   ],
   "source": [
    "b"
   ]
  },
  {
   "cell_type": "code",
   "execution_count": 50,
   "id": "d234437d",
   "metadata": {},
   "outputs": [
    {
     "name": "stdout",
     "output_type": "stream",
     "text": [
      "[2, 4]\n",
      "2 4 "
     ]
    }
   ],
   "source": [
    "my=[]\n",
    "for i in range(2,min(b)+1):\n",
    "    m=set()\n",
    "    y=set()\n",
    "    for j in range(0,len(b)):\n",
    "        k=b[j]%i\n",
    "        m.add(k)\n",
    "        y.add(i)\n",
    "    if(len(m)==1):\n",
    "        for k in y:\n",
    "            my.append(k)\n",
    "for i in my:\n",
    "    print(i,end=' ')"
   ]
  },
  {
   "cell_type": "code",
   "execution_count": null,
   "id": "c5446abc",
   "metadata": {},
   "outputs": [],
   "source": []
  }
 ],
 "metadata": {
  "kernelspec": {
   "display_name": "Python 3 (ipykernel)",
   "language": "python",
   "name": "python3"
  },
  "language_info": {
   "codemirror_mode": {
    "name": "ipython",
    "version": 3
   },
   "file_extension": ".py",
   "mimetype": "text/x-python",
   "name": "python",
   "nbconvert_exporter": "python",
   "pygments_lexer": "ipython3",
   "version": "3.10.7"
  }
 },
 "nbformat": 4,
 "nbformat_minor": 5
}
