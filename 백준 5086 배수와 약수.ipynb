{
 "cells": [
  {
   "cell_type": "code",
   "execution_count": 1,
   "id": "e494c779",
   "metadata": {},
   "outputs": [
    {
     "name": "stdout",
     "output_type": "stream",
     "text": [
      "8 16\n",
      "factor\n",
      "32 4\n",
      "multiple\n",
      "17 5\n",
      "neither\n",
      "0 0\n"
     ]
    }
   ],
   "source": [
    "while True:\n",
    "    a,b=map(int,input().split())\n",
    "    if a==0 and b==0:\n",
    "        break\n",
    "    elif a%b==0:\n",
    "        print('multiple')\n",
    "    elif b%a==0:\n",
    "        print('factor')\n",
    "    else:\n",
    "        print('neither')\n",
    "    "
   ]
  },
  {
   "cell_type": "code",
   "execution_count": null,
   "id": "2700f137",
   "metadata": {},
   "outputs": [],
   "source": []
  }
 ],
 "metadata": {
  "kernelspec": {
   "display_name": "Python 3 (ipykernel)",
   "language": "python",
   "name": "python3"
  },
  "language_info": {
   "codemirror_mode": {
    "name": "ipython",
    "version": 3
   },
   "file_extension": ".py",
   "mimetype": "text/x-python",
   "name": "python",
   "nbconvert_exporter": "python",
   "pygments_lexer": "ipython3",
   "version": "3.10.7"
  }
 },
 "nbformat": 4,
 "nbformat_minor": 5
}
