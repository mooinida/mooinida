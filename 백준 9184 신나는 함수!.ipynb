{
 "cells": [
  {
   "cell_type": "code",
   "execution_count": null,
   "id": "e988d1e4",
   "metadata": {},
   "outputs": [
    {
     "name": "stdout",
     "output_type": "stream",
     "text": [
      "-1 7 18\n",
      "w(-1, 7, 18)=1\n",
      "50 50 50\n",
      "w(50, 50, 50)=1048576\n"
     ]
    }
   ],
   "source": [
    "\n",
    "def w(a,b,c):\n",
    "    if a <= 0 or b <= 0 or c <= 0:\n",
    "        return 1\n",
    "    if a > 20 or b > 20 or c > 20:\n",
    "        return w(20,20,20)\n",
    "    if d[a][b][c]:\n",
    "        return d[a][b][c]\n",
    "    if a < b < c:\n",
    "        d[a][b][c]=w(a, b, c-1) + w(a, b-1, c-1) - w(a, b-1, c)\n",
    "        return d[a][b][c]\n",
    "    d[a][b][c]= w(a-1, b, c) + w(a-1, b-1, c) + w(a-1, b, c-1) - w(a-1, b-1, c-1)\n",
    "    return d[a][b][c]\n",
    "d=[[[0]*(21) for _ in range(21)] for _ in range(21)]\n",
    "while 1:\n",
    "    a,b,c=map(int,input().split())\n",
    "    if a==-1 and b==-1 and c==-1:\n",
    "        break\n",
    "    print(f'w({a}, {b}, {c}) = {w(a,b,c)}')"
   ]
  },
  {
   "cell_type": "code",
   "execution_count": null,
   "id": "aafe206c",
   "metadata": {},
   "outputs": [],
   "source": []
  }
 ],
 "metadata": {
  "kernelspec": {
   "display_name": "Python 3 (ipykernel)",
   "language": "python",
   "name": "python3"
  },
  "language_info": {
   "codemirror_mode": {
    "name": "ipython",
    "version": 3
   },
   "file_extension": ".py",
   "mimetype": "text/x-python",
   "name": "python",
   "nbconvert_exporter": "python",
   "pygments_lexer": "ipython3",
   "version": "3.10.7"
  }
 },
 "nbformat": 4,
 "nbformat_minor": 5
}
