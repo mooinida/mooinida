{
 "cells": [
  {
   "cell_type": "code",
   "execution_count": 2,
   "id": "68287b60",
   "metadata": {},
   "outputs": [
    {
     "name": "stdout",
     "output_type": "stream",
     "text": [
      "5\n",
      "1\n",
      "3\n",
      "8\n",
      "-2\n",
      "2\n",
      "2\n",
      "2\n",
      "1\n",
      "10\n"
     ]
    }
   ],
   "source": [
    "from collections import Counter\n",
    "n=int(input())\n",
    "number=[]\n",
    "for i in range(n):\n",
    "    number.append(int(input()))\n",
    "print(round(sum(number)//n))\n",
    "number.sort()\n",
    "many=Counter(number).most_common()\n",
    "print(number[n//2])\n",
    "if len(many)>1:\n",
    "    if many[0][1]==many[1][1]:\n",
    "        print(many[1][0])\n",
    "    else:\n",
    "        print(many[0][0])\n",
    "else:\n",
    "    print(many[0][0])\n",
    "print(max(number)-min(number))"
   ]
  },
  {
   "cell_type": "code",
   "execution_count": null,
   "id": "bf328960",
   "metadata": {},
   "outputs": [],
   "source": [
    "from collections import Counter\n",
    "n=int(input())\n",
    "number=[]\n",
    "for i in range(n):\n",
    "    number.append(int(input()))\n",
    "print(round(sum(number)/n))\n",
    "number.sort()\n",
    "many=Counter(number).most_common()\n",
    "print(number[n//2])\n",
    "if len(number)>1:\n",
    "    if many[0][1]==many[1][1]:\n",
    "        print(many[1][0])\n",
    "    else:\n",
    "        print(many[0][0])\n",
    "else:\n",
    "    print(many[0][0])\n",
    "print(max(number)-min(number))"
   ]
  }
 ],
 "metadata": {
  "kernelspec": {
   "display_name": "Python 3 (ipykernel)",
   "language": "python",
   "name": "python3"
  },
  "language_info": {
   "codemirror_mode": {
    "name": "ipython",
    "version": 3
   },
   "file_extension": ".py",
   "mimetype": "text/x-python",
   "name": "python",
   "nbconvert_exporter": "python",
   "pygments_lexer": "ipython3",
   "version": "3.10.7"
  }
 },
 "nbformat": 4,
 "nbformat_minor": 5
}
