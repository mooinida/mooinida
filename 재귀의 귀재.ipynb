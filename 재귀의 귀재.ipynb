{
 "cells": [
  {
   "cell_type": "code",
   "execution_count": 5,
   "id": "277724f3",
   "metadata": {},
   "outputs": [
    {
     "name": "stdout",
     "output_type": "stream",
     "text": [
      "ABBA: 1\n",
      "ABC: 0\n"
     ]
    }
   ],
   "source": [
    "def recursion(s, l, r):\n",
    "    global cnt\n",
    "    cnt +=1\n",
    "    if l >= r: return 1\n",
    "    elif s[l] != s[r]: return 0\n",
    "    else: return recursion(s, l+1, r-1)\n",
    "\n",
    "def isPalindrome(s):\n",
    "    return recursion(s, 0, len(s)-1)\n",
    "\n",
    "print('ABBA:', isPalindrome('ABBA'))\n",
    "print('ABC:', isPalindrome('ABC'))"
   ]
  },
  {
   "cell_type": "code",
   "execution_count": null,
   "id": "979b9f67",
   "metadata": {},
   "outputs": [],
   "source": [
    "for i in range(int(input())):\n",
    "    cnt=0"
   ]
  }
 ],
 "metadata": {
  "kernelspec": {
   "display_name": "Python 3 (ipykernel)",
   "language": "python",
   "name": "python3"
  },
  "language_info": {
   "codemirror_mode": {
    "name": "ipython",
    "version": 3
   },
   "file_extension": ".py",
   "mimetype": "text/x-python",
   "name": "python",
   "nbconvert_exporter": "python",
   "pygments_lexer": "ipython3",
   "version": "3.10.7"
  }
 },
 "nbformat": 4,
 "nbformat_minor": 5
}
