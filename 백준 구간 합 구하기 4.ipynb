{
 "cells": [
  {
   "cell_type": "code",
   "execution_count": null,
   "id": "21c1533d",
   "metadata": {},
   "outputs": [
    {
     "name": "stdout",
     "output_type": "stream",
     "text": [
      "5 3\n",
      "5 4 3 2 1\n",
      "1 3\n",
      "15\n"
     ]
    }
   ],
   "source": [
    "n,m=map(int,input().split())\n",
    "my=list(map(int,input().split()))\n",
    "for i in range(m):\n",
    "    a,b=map(int,input().split())\n",
    "    sum=0\n",
    "    for j in range(a-1,b):\n",
    "        sum+=my[j]\n",
    "    print(sum)"
   ]
  },
  {
   "cell_type": "code",
   "execution_count": null,
   "id": "d4a61f87",
   "metadata": {},
   "outputs": [],
   "source": []
  }
 ],
 "metadata": {
  "kernelspec": {
   "display_name": "Python 3 (ipykernel)",
   "language": "python",
   "name": "python3"
  },
  "language_info": {
   "codemirror_mode": {
    "name": "ipython",
    "version": 3
   },
   "file_extension": ".py",
   "mimetype": "text/x-python",
   "name": "python",
   "nbconvert_exporter": "python",
   "pygments_lexer": "ipython3",
   "version": "3.10.7"
  }
 },
 "nbformat": 4,
 "nbformat_minor": 5
}
