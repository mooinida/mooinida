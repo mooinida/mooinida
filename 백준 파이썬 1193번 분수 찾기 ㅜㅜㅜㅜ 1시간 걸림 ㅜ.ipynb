{
 "cells": [
  {
   "cell_type": "code",
   "execution_count": null,
   "id": "c5120469",
   "metadata": {},
   "outputs": [],
   "source": [
    "a=int(input())\n",
    "n=0\n",
    "bunja=1\n",
    "bunmo=1\n",
    "while(1):\n",
    "    n+=1\n",
    "    if ((n*(n+1)/2)>=a):\n",
    "        break\n",
    "if n%2==0:\n",
    "    for i in range(int(a-(n*(n-1)/2)-1)):\n",
    "        n-=1\n",
    "        bunja+=1\n",
    "    print(bunja,n,sep='/')\n",
    "        \n",
    "else:\n",
    "    for i in range(int(a-(n*(n-1)/2)-1)):\n",
    "        n-=1\n",
    "        bunmo+=1\n",
    "    print(n,bunmo,sep='/')"
   ]
  }
 ],
 "metadata": {
  "kernelspec": {
   "display_name": "Python 3 (ipykernel)",
   "language": "python",
   "name": "python3"
  },
  "language_info": {
   "codemirror_mode": {
    "name": "ipython",
    "version": 3
   },
   "file_extension": ".py",
   "mimetype": "text/x-python",
   "name": "python",
   "nbconvert_exporter": "python",
   "pygments_lexer": "ipython3",
   "version": "3.10.7"
  }
 },
 "nbformat": 4,
 "nbformat_minor": 5
}
