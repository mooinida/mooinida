{
 "cells": [
  {
   "cell_type": "code",
   "execution_count": 8,
   "id": "21db5a2c",
   "metadata": {},
   "outputs": [
    {
     "name": "stdout",
     "output_type": "stream",
     "text": [
      "2\n",
      "3\n",
      "hat headgear\n",
      "sunglasses eyewear\n",
      "turban headgear\n",
      "5\n",
      "3\n",
      "mask face\n",
      "sunglasses face\n",
      "sunglasses face\n",
      "3\n"
     ]
    }
   ],
   "source": [
    "n=int(input())\n",
    "for i in range(n):\n",
    "    m=int(input())\n",
    "    dic={}\n",
    "    for j in range(m):\n",
    "        a=list(input().split())\n",
    "        if a[1] in dic:\n",
    "            dic[a[1]].append(a[0])\n",
    "        else:\n",
    "            dic[a[1]]=[a[0]]\n",
    "    cnt=1\n",
    "    for k in dic:\n",
    "        cnt*=(len(dic[k])+1)\n",
    "    print(cnt-1)"
   ]
  },
  {
   "cell_type": "code",
   "execution_count": 7,
   "id": "d3346437",
   "metadata": {},
   "outputs": [
    {
     "data": {
      "text/plain": [
       "{'face': ['mask', 'sunglasses', 'makeup']}"
      ]
     },
     "execution_count": 7,
     "metadata": {},
     "output_type": "execute_result"
    }
   ],
   "source": [
    "dic"
   ]
  },
  {
   "cell_type": "code",
   "execution_count": 9,
   "id": "b9445baa",
   "metadata": {},
   "outputs": [
    {
     "data": {
      "text/plain": [
       "{'face': ['mask', 'sunglasses', 'sunglasses']}"
      ]
     },
     "execution_count": 9,
     "metadata": {},
     "output_type": "execute_result"
    }
   ],
   "source": [
    "dic"
   ]
  },
  {
   "cell_type": "code",
   "execution_count": 12,
   "id": "74e19e97",
   "metadata": {},
   "outputs": [
    {
     "name": "stdout",
     "output_type": "stream",
     "text": [
      "face\n",
      "['mask', 'sunglasses', 'sunglasses'] 3\n"
     ]
    }
   ],
   "source": [
    "for i in dic:\n",
    "    print(i)\n",
    "    print(dic[i],len(dic[i]),sep=' ')"
   ]
  },
  {
   "cell_type": "code",
   "execution_count": null,
   "id": "08dd422f",
   "metadata": {},
   "outputs": [],
   "source": []
  }
 ],
 "metadata": {
  "kernelspec": {
   "display_name": "Python 3 (ipykernel)",
   "language": "python",
   "name": "python3"
  },
  "language_info": {
   "codemirror_mode": {
    "name": "ipython",
    "version": 3
   },
   "file_extension": ".py",
   "mimetype": "text/x-python",
   "name": "python",
   "nbconvert_exporter": "python",
   "pygments_lexer": "ipython3",
   "version": "3.10.7"
  }
 },
 "nbformat": 4,
 "nbformat_minor": 5
}
