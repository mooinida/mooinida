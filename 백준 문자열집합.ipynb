{
 "cells": [
  {
   "cell_type": "code",
   "execution_count": 1,
   "id": "ccfb3096",
   "metadata": {},
   "outputs": [
    {
     "name": "stdout",
     "output_type": "stream",
     "text": [
      "5 11\n",
      "baekjoononlinejudge\n",
      "startlink\n",
      "codeplus\n",
      "sundaycoding\n",
      "codingsh\n"
     ]
    }
   ],
   "source": [
    "n,m=map(int,input().split())\n",
    "my=[]\n",
    "for i in range(n):\n",
    "    my.append(input())\n",
    "dic={}\n",
    "for i in range(m):\n",
    "    dic[input()]=0\n",
    "cnt=0\n",
    "for i in range(n):\n",
    "    if my[i] in dic:\n",
    "        cnt+=1\n",
    "print(cnt)"
   ]
  },
  {
   "cell_type": "code",
   "execution_count": 2,
   "id": "ebb1d5cc",
   "metadata": {},
   "outputs": [
    {
     "data": {
      "text/plain": [
       "['baekjoononlinejudge', 'startlink', 'codeplus', 'sundaycoding', 'codingsh']"
      ]
     },
     "execution_count": 2,
     "metadata": {},
     "output_type": "execute_result"
    }
   ],
   "source": [
    "my"
   ]
  },
  {
   "cell_type": "code",
   "execution_count": 3,
   "id": "d9ff0998",
   "metadata": {},
   "outputs": [
    {
     "name": "stdout",
     "output_type": "stream",
     "text": [
      "baekjoon\n",
      "codeplus\n",
      "codeminus\n",
      "startlink\n",
      "starlink\n",
      "sundaycoding\n",
      "codingsh\n",
      "codinghs\n",
      "sondaycoding\n",
      "startrink\n",
      "icerink\n"
     ]
    }
   ],
   "source": [
    "dic={}\n",
    "for i in range(m):\n",
    "    dic[input()]=0"
   ]
  },
  {
   "cell_type": "code",
   "execution_count": 4,
   "id": "b4a16872",
   "metadata": {},
   "outputs": [
    {
     "name": "stdout",
     "output_type": "stream",
     "text": [
      "4\n"
     ]
    }
   ],
   "source": [
    "cnt=0\n",
    "for i in range(n):\n",
    "    if my[i] in dic:\n",
    "        cnt+=1\n",
    "print(cnt)"
   ]
  },
  {
   "cell_type": "code",
   "execution_count": 5,
   "id": "791e2bae",
   "metadata": {},
   "outputs": [
    {
     "name": "stdout",
     "output_type": "stream",
     "text": [
      "4\n"
     ]
    }
   ],
   "source": [
    "cnt=0\n",
    "for i in range(n):\n",
    "    if my[i] in dic:\n",
    "        cnt+=1\n",
    "print(cnt)"
   ]
  },
  {
   "cell_type": "code",
   "execution_count": null,
   "id": "81429889",
   "metadata": {},
   "outputs": [],
   "source": []
  }
 ],
 "metadata": {
  "kernelspec": {
   "display_name": "Python 3 (ipykernel)",
   "language": "python",
   "name": "python3"
  },
  "language_info": {
   "codemirror_mode": {
    "name": "ipython",
    "version": 3
   },
   "file_extension": ".py",
   "mimetype": "text/x-python",
   "name": "python",
   "nbconvert_exporter": "python",
   "pygments_lexer": "ipython3",
   "version": "3.10.7"
  }
 },
 "nbformat": 4,
 "nbformat_minor": 5
}
