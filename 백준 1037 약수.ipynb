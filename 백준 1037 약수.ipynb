{
 "cells": [
  {
   "cell_type": "code",
   "execution_count": 5,
   "id": "c337c4de",
   "metadata": {},
   "outputs": [
    {
     "name": "stdout",
     "output_type": "stream",
     "text": [
      "14 \n",
      "14 26456 2 28 13228 3307 7 23149 8 6614 92596\n",
      "185192\n"
     ]
    }
   ],
   "source": [
    "n=int(input())\n",
    "my=list(map(int,input().split()))\n",
    "print(max(my)*min(my))"
   ]
  },
  {
   "cell_type": "code",
   "execution_count": null,
   "id": "15ba0e24",
   "metadata": {},
   "outputs": [],
   "source": []
  }
 ],
 "metadata": {
  "kernelspec": {
   "display_name": "Python 3 (ipykernel)",
   "language": "python",
   "name": "python3"
  },
  "language_info": {
   "codemirror_mode": {
    "name": "ipython",
    "version": 3
   },
   "file_extension": ".py",
   "mimetype": "text/x-python",
   "name": "python",
   "nbconvert_exporter": "python",
   "pygments_lexer": "ipython3",
   "version": "3.10.7"
  }
 },
 "nbformat": 4,
 "nbformat_minor": 5
}
