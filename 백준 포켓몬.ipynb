{
 "cells": [
  {
   "cell_type": "code",
   "execution_count": null,
   "id": "77ab0786",
   "metadata": {},
   "outputs": [
    {
     "name": "stdout",
     "output_type": "stream",
     "text": [
      "10 5\n",
      "a\n",
      "b\n",
      "c\n",
      "d\n",
      "e\n",
      "f\n",
      "g\n",
      "h\n",
      "i\n",
      "j\n",
      "9\n",
      "i\n",
      "3\n",
      "c\n",
      "i\n",
      "9\n",
      "j\n",
      "10\n"
     ]
    }
   ],
   "source": [
    "import sys\n",
    "\n",
    "input = sys.stdin.readline\n",
    "n,m=map(int,input().split())\n",
    "dic={}\n",
    "\n",
    "for i in range(1, n + 1):\n",
    "    a = input()\n",
    "    dic[i] = a\n",
    "    dic[a] = i\n",
    "for i in range(m):\n",
    "    t=input()\n",
    "    if t.isdigit():\n",
    "        print(dic[int(t)])\n",
    "    else:\n",
    "        print(dic[t])\n"
   ]
  },
  {
   "cell_type": "code",
   "execution_count": 26,
   "id": "260749be",
   "metadata": {},
   "outputs": [
    {
     "data": {
      "text/plain": [
       "{1: 'a',\n",
       " 'a': 1,\n",
       " 2: 'b',\n",
       " 'b': 2,\n",
       " 3: 'c',\n",
       " 'c': 3,\n",
       " 4: 'd',\n",
       " 'd': 4,\n",
       " 5: 'e',\n",
       " 'e': 5,\n",
       " 6: 'f',\n",
       " 'f': 6,\n",
       " 7: 'g',\n",
       " 'g': 7,\n",
       " 8: 'h',\n",
       " 'h': 8,\n",
       " 9: 'i',\n",
       " 'i': 9,\n",
       " 10: 'j',\n",
       " 'j': 10}"
      ]
     },
     "execution_count": 26,
     "metadata": {},
     "output_type": "execute_result"
    }
   ],
   "source": [
    "dic"
   ]
  },
  {
   "cell_type": "code",
   "execution_count": 20,
   "id": "f89112a6",
   "metadata": {},
   "outputs": [
    {
     "data": {
      "text/plain": [
       "{1: 'a',\n",
       " 'a': 1,\n",
       " 2: 'b',\n",
       " 'b': 2,\n",
       " 3: 'c',\n",
       " 'c': 3,\n",
       " 4: 'd',\n",
       " 'd': 4,\n",
       " 5: 'e',\n",
       " 'e': 5,\n",
       " 6: 'f',\n",
       " 'f': 6,\n",
       " 7: 'g',\n",
       " 'g': 7,\n",
       " 8: 'h',\n",
       " 'h': 8,\n",
       " 9: 'i',\n",
       " 'i': 9,\n",
       " 10: 'j',\n",
       " 'j': 10}"
      ]
     },
     "execution_count": 20,
     "metadata": {},
     "output_type": "execute_result"
    }
   ],
   "source": [
    "dic"
   ]
  },
  {
   "cell_type": "code",
   "execution_count": 17,
   "id": "50aaec27",
   "metadata": {},
   "outputs": [
    {
     "ename": "IndexError",
     "evalue": "list index out of range",
     "output_type": "error",
     "traceback": [
      "\u001b[1;31m---------------------------------------------------------------------------\u001b[0m",
      "\u001b[1;31mIndexError\u001b[0m                                Traceback (most recent call last)",
      "Cell \u001b[1;32mIn [17], line 2\u001b[0m\n\u001b[0;32m      1\u001b[0m \u001b[38;5;28;01mfor\u001b[39;00m i \u001b[38;5;129;01min\u001b[39;00m \u001b[38;5;28mrange\u001b[39m(m):\n\u001b[1;32m----> 2\u001b[0m     \u001b[38;5;28;01mif\u001b[39;00m \u001b[43mmy\u001b[49m\u001b[43m[\u001b[49m\u001b[43mi\u001b[49m\u001b[43m]\u001b[49m \u001b[38;5;129;01min\u001b[39;00m dic:\n\u001b[0;32m      3\u001b[0m         \u001b[38;5;28mprint\u001b[39m(my[i])\n",
      "\u001b[1;31mIndexError\u001b[0m: list index out of range"
     ]
    }
   ],
   "source": [
    "for i in range(m):\n",
    "    if my[i] in dic:\n",
    "        print(my[i])"
   ]
  },
  {
   "cell_type": "code",
   "execution_count": null,
   "id": "3bc33f62",
   "metadata": {},
   "outputs": [],
   "source": []
  }
 ],
 "metadata": {
  "kernelspec": {
   "display_name": "Python 3 (ipykernel)",
   "language": "python",
   "name": "python3"
  },
  "language_info": {
   "codemirror_mode": {
    "name": "ipython",
    "version": 3
   },
   "file_extension": ".py",
   "mimetype": "text/x-python",
   "name": "python",
   "nbconvert_exporter": "python",
   "pygments_lexer": "ipython3",
   "version": "3.10.7"
  }
 },
 "nbformat": 4,
 "nbformat_minor": 5
}
